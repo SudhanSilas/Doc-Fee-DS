{
 "cells": [
  {
   "cell_type": "code",
   "execution_count": 1,
   "metadata": {},
   "outputs": [],
   "source": [
    "import pandas as pd\n",
    "import numpy as np\n",
    "import seaborn as sb\n",
    "import matplotlib.pyplot as plt\n",
    "\n",
    "import warnings\n",
    "warnings.filterwarnings(\"ignore\")\n"
   ]
  },
  {
   "cell_type": "code",
   "execution_count": 2,
   "metadata": {},
   "outputs": [
    {
     "data": {
      "text/html": [
       "<div>\n",
       "<style scoped>\n",
       "    .dataframe tbody tr th:only-of-type {\n",
       "        vertical-align: middle;\n",
       "    }\n",
       "\n",
       "    .dataframe tbody tr th {\n",
       "        vertical-align: top;\n",
       "    }\n",
       "\n",
       "    .dataframe thead th {\n",
       "        text-align: right;\n",
       "    }\n",
       "</style>\n",
       "<table border=\"1\" class=\"dataframe\">\n",
       "  <thead>\n",
       "    <tr style=\"text-align: right;\">\n",
       "      <th></th>\n",
       "      <th>Qualification</th>\n",
       "      <th>Experience</th>\n",
       "      <th>Rating</th>\n",
       "      <th>Place</th>\n",
       "      <th>Profile</th>\n",
       "      <th>Miscellaneous_Info</th>\n",
       "      <th>Fees</th>\n",
       "    </tr>\n",
       "  </thead>\n",
       "  <tbody>\n",
       "    <tr>\n",
       "      <th>0</th>\n",
       "      <td>BHMS, MD - Homeopathy</td>\n",
       "      <td>24 years experience</td>\n",
       "      <td>100%</td>\n",
       "      <td>Kakkanad, Ernakulam</td>\n",
       "      <td>Homeopath</td>\n",
       "      <td>100% 16 Feedback Kakkanad, Ernakulam</td>\n",
       "      <td>100</td>\n",
       "    </tr>\n",
       "    <tr>\n",
       "      <th>1</th>\n",
       "      <td>BAMS, MD - Ayurveda Medicine</td>\n",
       "      <td>12 years experience</td>\n",
       "      <td>98%</td>\n",
       "      <td>Whitefield, Bangalore</td>\n",
       "      <td>Ayurveda</td>\n",
       "      <td>98% 76 Feedback Whitefield, Bangalore</td>\n",
       "      <td>350</td>\n",
       "    </tr>\n",
       "    <tr>\n",
       "      <th>2</th>\n",
       "      <td>MBBS, MS - Otorhinolaryngology</td>\n",
       "      <td>9 years experience</td>\n",
       "      <td>NaN</td>\n",
       "      <td>Mathikere - BEL, Bangalore</td>\n",
       "      <td>ENT Specialist</td>\n",
       "      <td>NaN</td>\n",
       "      <td>300</td>\n",
       "    </tr>\n",
       "    <tr>\n",
       "      <th>3</th>\n",
       "      <td>BSc - Zoology, BAMS</td>\n",
       "      <td>12 years experience</td>\n",
       "      <td>NaN</td>\n",
       "      <td>Bannerghatta Road, Bangalore</td>\n",
       "      <td>Ayurveda</td>\n",
       "      <td>Bannerghatta Road, Bangalore ₹250 Available on...</td>\n",
       "      <td>250</td>\n",
       "    </tr>\n",
       "    <tr>\n",
       "      <th>4</th>\n",
       "      <td>BAMS</td>\n",
       "      <td>20 years experience</td>\n",
       "      <td>100%</td>\n",
       "      <td>Keelkattalai, Chennai</td>\n",
       "      <td>Ayurveda</td>\n",
       "      <td>100% 4 Feedback Keelkattalai, Chennai</td>\n",
       "      <td>250</td>\n",
       "    </tr>\n",
       "    <tr>\n",
       "      <th>...</th>\n",
       "      <td>...</td>\n",
       "      <td>...</td>\n",
       "      <td>...</td>\n",
       "      <td>...</td>\n",
       "      <td>...</td>\n",
       "      <td>...</td>\n",
       "      <td>...</td>\n",
       "    </tr>\n",
       "    <tr>\n",
       "      <th>5956</th>\n",
       "      <td>MBBS, MS - ENT</td>\n",
       "      <td>19 years experience</td>\n",
       "      <td>98%</td>\n",
       "      <td>Basavanagudi, Bangalore</td>\n",
       "      <td>ENT Specialist</td>\n",
       "      <td>98% 45 Feedback Basavanagudi, Bangalore</td>\n",
       "      <td>300</td>\n",
       "    </tr>\n",
       "    <tr>\n",
       "      <th>5957</th>\n",
       "      <td>MBBS</td>\n",
       "      <td>33 years experience</td>\n",
       "      <td>NaN</td>\n",
       "      <td>Nungambakkam, Chennai</td>\n",
       "      <td>General Medicine</td>\n",
       "      <td>NaN</td>\n",
       "      <td>100</td>\n",
       "    </tr>\n",
       "    <tr>\n",
       "      <th>5958</th>\n",
       "      <td>MBBS</td>\n",
       "      <td>41 years experience</td>\n",
       "      <td>97%</td>\n",
       "      <td>Greater Kailash Part 2, Delhi</td>\n",
       "      <td>General Medicine</td>\n",
       "      <td>97% 11 Feedback Greater Kailash Part 2, Delhi</td>\n",
       "      <td>600</td>\n",
       "    </tr>\n",
       "    <tr>\n",
       "      <th>5959</th>\n",
       "      <td>MBBS, MD - General Medicine</td>\n",
       "      <td>15 years experience</td>\n",
       "      <td>90%</td>\n",
       "      <td>Vileparle West, Mumbai</td>\n",
       "      <td>General Medicine</td>\n",
       "      <td>General Medical Consultation Viral Fever Treat...</td>\n",
       "      <td>100</td>\n",
       "    </tr>\n",
       "    <tr>\n",
       "      <th>5960</th>\n",
       "      <td>BDS, MDS - Orthodontics</td>\n",
       "      <td>17 years experience</td>\n",
       "      <td>100%</td>\n",
       "      <td>Pitampura, Delhi</td>\n",
       "      <td>Dentist</td>\n",
       "      <td>Acrylic Partial Denture Crowns and Bridges Fix...</td>\n",
       "      <td>200</td>\n",
       "    </tr>\n",
       "  </tbody>\n",
       "</table>\n",
       "<p>5961 rows × 7 columns</p>\n",
       "</div>"
      ],
      "text/plain": [
       "                       Qualification           Experience Rating  \\\n",
       "0              BHMS, MD - Homeopathy  24 years experience   100%   \n",
       "1       BAMS, MD - Ayurveda Medicine  12 years experience    98%   \n",
       "2     MBBS, MS - Otorhinolaryngology   9 years experience    NaN   \n",
       "3                BSc - Zoology, BAMS  12 years experience    NaN   \n",
       "4                               BAMS  20 years experience   100%   \n",
       "...                              ...                  ...    ...   \n",
       "5956                  MBBS, MS - ENT  19 years experience    98%   \n",
       "5957                            MBBS  33 years experience    NaN   \n",
       "5958                            MBBS  41 years experience    97%   \n",
       "5959     MBBS, MD - General Medicine  15 years experience    90%   \n",
       "5960         BDS, MDS - Orthodontics  17 years experience   100%   \n",
       "\n",
       "                              Place           Profile  \\\n",
       "0               Kakkanad, Ernakulam         Homeopath   \n",
       "1             Whitefield, Bangalore          Ayurveda   \n",
       "2        Mathikere - BEL, Bangalore    ENT Specialist   \n",
       "3      Bannerghatta Road, Bangalore          Ayurveda   \n",
       "4             Keelkattalai, Chennai          Ayurveda   \n",
       "...                             ...               ...   \n",
       "5956        Basavanagudi, Bangalore    ENT Specialist   \n",
       "5957          Nungambakkam, Chennai  General Medicine   \n",
       "5958  Greater Kailash Part 2, Delhi  General Medicine   \n",
       "5959         Vileparle West, Mumbai  General Medicine   \n",
       "5960               Pitampura, Delhi           Dentist   \n",
       "\n",
       "                                     Miscellaneous_Info  Fees  \n",
       "0                  100% 16 Feedback Kakkanad, Ernakulam   100  \n",
       "1                 98% 76 Feedback Whitefield, Bangalore   350  \n",
       "2                                                   NaN   300  \n",
       "3     Bannerghatta Road, Bangalore ₹250 Available on...   250  \n",
       "4                 100% 4 Feedback Keelkattalai, Chennai   250  \n",
       "...                                                 ...   ...  \n",
       "5956            98% 45 Feedback Basavanagudi, Bangalore   300  \n",
       "5957                                                NaN   100  \n",
       "5958      97% 11 Feedback Greater Kailash Part 2, Delhi   600  \n",
       "5959  General Medical Consultation Viral Fever Treat...   100  \n",
       "5960  Acrylic Partial Denture Crowns and Bridges Fix...   200  \n",
       "\n",
       "[5961 rows x 7 columns]"
      ]
     },
     "execution_count": 2,
     "metadata": {},
     "output_type": "execute_result"
    }
   ],
   "source": [
    "train=pd.read_excel(\"Doctor_fee.xls\")\n",
    "train"
   ]
  },
  {
   "cell_type": "code",
   "execution_count": 3,
   "metadata": {},
   "outputs": [
    {
     "data": {
      "text/html": [
       "<div>\n",
       "<style scoped>\n",
       "    .dataframe tbody tr th:only-of-type {\n",
       "        vertical-align: middle;\n",
       "    }\n",
       "\n",
       "    .dataframe tbody tr th {\n",
       "        vertical-align: top;\n",
       "    }\n",
       "\n",
       "    .dataframe thead th {\n",
       "        text-align: right;\n",
       "    }\n",
       "</style>\n",
       "<table border=\"1\" class=\"dataframe\">\n",
       "  <thead>\n",
       "    <tr style=\"text-align: right;\">\n",
       "      <th></th>\n",
       "      <th>Qualification</th>\n",
       "      <th>Experience</th>\n",
       "      <th>Rating</th>\n",
       "      <th>Place</th>\n",
       "      <th>Profile</th>\n",
       "      <th>Miscellaneous_Info</th>\n",
       "    </tr>\n",
       "  </thead>\n",
       "  <tbody>\n",
       "    <tr>\n",
       "      <th>0</th>\n",
       "      <td>MBBS</td>\n",
       "      <td>35 years experience</td>\n",
       "      <td>NaN</td>\n",
       "      <td>Ghatkopar East, Mumbai</td>\n",
       "      <td>General Medicine</td>\n",
       "      <td>NaN</td>\n",
       "    </tr>\n",
       "    <tr>\n",
       "      <th>1</th>\n",
       "      <td>MBBS, Diploma in Otorhinolaryngology (DLO)</td>\n",
       "      <td>31 years experience</td>\n",
       "      <td>NaN</td>\n",
       "      <td>West Marredpally, Hyderabad</td>\n",
       "      <td>ENT Specialist</td>\n",
       "      <td>NaN</td>\n",
       "    </tr>\n",
       "    <tr>\n",
       "      <th>2</th>\n",
       "      <td>MBBS, DDVL</td>\n",
       "      <td>40 years experience</td>\n",
       "      <td>70%</td>\n",
       "      <td>KK Nagar, Chennai</td>\n",
       "      <td>Dermatologists</td>\n",
       "      <td>70% 4 Feedback KK Nagar, Chennai</td>\n",
       "    </tr>\n",
       "    <tr>\n",
       "      <th>3</th>\n",
       "      <td>BAMS</td>\n",
       "      <td>0 years experience</td>\n",
       "      <td>NaN</td>\n",
       "      <td>New Ashok Nagar, Delhi</td>\n",
       "      <td>Ayurveda</td>\n",
       "      <td>NaN</td>\n",
       "    </tr>\n",
       "    <tr>\n",
       "      <th>4</th>\n",
       "      <td>BDS, MDS - Conservative Dentistry &amp; Endodontics</td>\n",
       "      <td>16 years experience</td>\n",
       "      <td>100%</td>\n",
       "      <td>Kanakpura Road, Bangalore</td>\n",
       "      <td>Dentist</td>\n",
       "      <td>General Dentistry Conservative Dentistry Cosme...</td>\n",
       "    </tr>\n",
       "    <tr>\n",
       "      <th>...</th>\n",
       "      <td>...</td>\n",
       "      <td>...</td>\n",
       "      <td>...</td>\n",
       "      <td>...</td>\n",
       "      <td>...</td>\n",
       "      <td>...</td>\n",
       "    </tr>\n",
       "    <tr>\n",
       "      <th>1982</th>\n",
       "      <td>BAMS, Doctor of Medicine</td>\n",
       "      <td>10 years experience</td>\n",
       "      <td>NaN</td>\n",
       "      <td>Basavanagudi, Bangalore</td>\n",
       "      <td>Ayurveda</td>\n",
       "      <td>NaN</td>\n",
       "    </tr>\n",
       "    <tr>\n",
       "      <th>1983</th>\n",
       "      <td>MD - Dermatology , Venereology &amp; Leprosy, MBBS</td>\n",
       "      <td>4 years experience</td>\n",
       "      <td>NaN</td>\n",
       "      <td>Choolai, Chennai</td>\n",
       "      <td>Dermatologists</td>\n",
       "      <td>NaN</td>\n",
       "    </tr>\n",
       "    <tr>\n",
       "      <th>1984</th>\n",
       "      <td>MBBS, MD / MS - Obstetrics &amp; Gynaecology</td>\n",
       "      <td>9 years experience</td>\n",
       "      <td>NaN</td>\n",
       "      <td>Porur, Chennai</td>\n",
       "      <td>General Medicine</td>\n",
       "      <td>NaN</td>\n",
       "    </tr>\n",
       "    <tr>\n",
       "      <th>1985</th>\n",
       "      <td>BDS</td>\n",
       "      <td>12 years experience</td>\n",
       "      <td>98%</td>\n",
       "      <td>Arekere, Bangalore</td>\n",
       "      <td>Dentist</td>\n",
       "      <td>RCT - Root Canal Treatment Root Canal Treatmen...</td>\n",
       "    </tr>\n",
       "    <tr>\n",
       "      <th>1986</th>\n",
       "      <td>MBBS, MD - Dermatology , Venereology &amp; Leprosy</td>\n",
       "      <td>8 years experience</td>\n",
       "      <td>NaN</td>\n",
       "      <td>Pallikaranai, Chennai</td>\n",
       "      <td>Dermatologists</td>\n",
       "      <td>1 Feedback Pallikaranai, Chennai ₹500</td>\n",
       "    </tr>\n",
       "  </tbody>\n",
       "</table>\n",
       "<p>1987 rows × 6 columns</p>\n",
       "</div>"
      ],
      "text/plain": [
       "                                        Qualification           Experience  \\\n",
       "0                                                MBBS  35 years experience   \n",
       "1          MBBS, Diploma in Otorhinolaryngology (DLO)  31 years experience   \n",
       "2                                          MBBS, DDVL  40 years experience   \n",
       "3                                                BAMS   0 years experience   \n",
       "4     BDS, MDS - Conservative Dentistry & Endodontics  16 years experience   \n",
       "...                                               ...                  ...   \n",
       "1982                         BAMS, Doctor of Medicine  10 years experience   \n",
       "1983   MD - Dermatology , Venereology & Leprosy, MBBS   4 years experience   \n",
       "1984         MBBS, MD / MS - Obstetrics & Gynaecology   9 years experience   \n",
       "1985                                              BDS  12 years experience   \n",
       "1986   MBBS, MD - Dermatology , Venereology & Leprosy   8 years experience   \n",
       "\n",
       "     Rating                        Place           Profile  \\\n",
       "0       NaN       Ghatkopar East, Mumbai  General Medicine   \n",
       "1       NaN  West Marredpally, Hyderabad    ENT Specialist   \n",
       "2       70%            KK Nagar, Chennai    Dermatologists   \n",
       "3       NaN       New Ashok Nagar, Delhi          Ayurveda   \n",
       "4      100%    Kanakpura Road, Bangalore           Dentist   \n",
       "...     ...                          ...               ...   \n",
       "1982    NaN      Basavanagudi, Bangalore          Ayurveda   \n",
       "1983    NaN             Choolai, Chennai    Dermatologists   \n",
       "1984    NaN               Porur, Chennai  General Medicine   \n",
       "1985    98%           Arekere, Bangalore           Dentist   \n",
       "1986    NaN        Pallikaranai, Chennai    Dermatologists   \n",
       "\n",
       "                                     Miscellaneous_Info  \n",
       "0                                                   NaN  \n",
       "1                                                   NaN  \n",
       "2                      70% 4 Feedback KK Nagar, Chennai  \n",
       "3                                                   NaN  \n",
       "4     General Dentistry Conservative Dentistry Cosme...  \n",
       "...                                                 ...  \n",
       "1982                                                NaN  \n",
       "1983                                                NaN  \n",
       "1984                                                NaN  \n",
       "1985  RCT - Root Canal Treatment Root Canal Treatmen...  \n",
       "1986              1 Feedback Pallikaranai, Chennai ₹500  \n",
       "\n",
       "[1987 rows x 6 columns]"
      ]
     },
     "execution_count": 3,
     "metadata": {},
     "output_type": "execute_result"
    }
   ],
   "source": [
    "test=pd.read_excel(\"doctor_Test.xls\")\n",
    "test"
   ]
  },
  {
   "cell_type": "code",
   "execution_count": 4,
   "metadata": {},
   "outputs": [],
   "source": [
    "train['source']='train'\n",
    "test['source']='test'\n",
    "test['Fees']=0.0\n",
    "\n",
    "#Concatenating the data in df variable\n",
    "df=pd.concat([train,test],sort=False,ignore_index=True)"
   ]
  },
  {
   "cell_type": "code",
   "execution_count": 5,
   "metadata": {},
   "outputs": [
    {
     "data": {
      "text/html": [
       "<div>\n",
       "<style scoped>\n",
       "    .dataframe tbody tr th:only-of-type {\n",
       "        vertical-align: middle;\n",
       "    }\n",
       "\n",
       "    .dataframe tbody tr th {\n",
       "        vertical-align: top;\n",
       "    }\n",
       "\n",
       "    .dataframe thead th {\n",
       "        text-align: right;\n",
       "    }\n",
       "</style>\n",
       "<table border=\"1\" class=\"dataframe\">\n",
       "  <thead>\n",
       "    <tr style=\"text-align: right;\">\n",
       "      <th></th>\n",
       "      <th>Qualification</th>\n",
       "      <th>Experience</th>\n",
       "      <th>Rating</th>\n",
       "      <th>Place</th>\n",
       "      <th>Profile</th>\n",
       "      <th>Miscellaneous_Info</th>\n",
       "      <th>Fees</th>\n",
       "      <th>source</th>\n",
       "    </tr>\n",
       "  </thead>\n",
       "  <tbody>\n",
       "    <tr>\n",
       "      <th>0</th>\n",
       "      <td>BHMS, MD - Homeopathy</td>\n",
       "      <td>24 years experience</td>\n",
       "      <td>100%</td>\n",
       "      <td>Kakkanad, Ernakulam</td>\n",
       "      <td>Homeopath</td>\n",
       "      <td>100% 16 Feedback Kakkanad, Ernakulam</td>\n",
       "      <td>100.0</td>\n",
       "      <td>train</td>\n",
       "    </tr>\n",
       "    <tr>\n",
       "      <th>1</th>\n",
       "      <td>BAMS, MD - Ayurveda Medicine</td>\n",
       "      <td>12 years experience</td>\n",
       "      <td>98%</td>\n",
       "      <td>Whitefield, Bangalore</td>\n",
       "      <td>Ayurveda</td>\n",
       "      <td>98% 76 Feedback Whitefield, Bangalore</td>\n",
       "      <td>350.0</td>\n",
       "      <td>train</td>\n",
       "    </tr>\n",
       "    <tr>\n",
       "      <th>2</th>\n",
       "      <td>MBBS, MS - Otorhinolaryngology</td>\n",
       "      <td>9 years experience</td>\n",
       "      <td>NaN</td>\n",
       "      <td>Mathikere - BEL, Bangalore</td>\n",
       "      <td>ENT Specialist</td>\n",
       "      <td>NaN</td>\n",
       "      <td>300.0</td>\n",
       "      <td>train</td>\n",
       "    </tr>\n",
       "    <tr>\n",
       "      <th>3</th>\n",
       "      <td>BSc - Zoology, BAMS</td>\n",
       "      <td>12 years experience</td>\n",
       "      <td>NaN</td>\n",
       "      <td>Bannerghatta Road, Bangalore</td>\n",
       "      <td>Ayurveda</td>\n",
       "      <td>Bannerghatta Road, Bangalore ₹250 Available on...</td>\n",
       "      <td>250.0</td>\n",
       "      <td>train</td>\n",
       "    </tr>\n",
       "    <tr>\n",
       "      <th>4</th>\n",
       "      <td>BAMS</td>\n",
       "      <td>20 years experience</td>\n",
       "      <td>100%</td>\n",
       "      <td>Keelkattalai, Chennai</td>\n",
       "      <td>Ayurveda</td>\n",
       "      <td>100% 4 Feedback Keelkattalai, Chennai</td>\n",
       "      <td>250.0</td>\n",
       "      <td>train</td>\n",
       "    </tr>\n",
       "    <tr>\n",
       "      <th>...</th>\n",
       "      <td>...</td>\n",
       "      <td>...</td>\n",
       "      <td>...</td>\n",
       "      <td>...</td>\n",
       "      <td>...</td>\n",
       "      <td>...</td>\n",
       "      <td>...</td>\n",
       "      <td>...</td>\n",
       "    </tr>\n",
       "    <tr>\n",
       "      <th>7943</th>\n",
       "      <td>BAMS, Doctor of Medicine</td>\n",
       "      <td>10 years experience</td>\n",
       "      <td>NaN</td>\n",
       "      <td>Basavanagudi, Bangalore</td>\n",
       "      <td>Ayurveda</td>\n",
       "      <td>NaN</td>\n",
       "      <td>0.0</td>\n",
       "      <td>test</td>\n",
       "    </tr>\n",
       "    <tr>\n",
       "      <th>7944</th>\n",
       "      <td>MD - Dermatology , Venereology &amp; Leprosy, MBBS</td>\n",
       "      <td>4 years experience</td>\n",
       "      <td>NaN</td>\n",
       "      <td>Choolai, Chennai</td>\n",
       "      <td>Dermatologists</td>\n",
       "      <td>NaN</td>\n",
       "      <td>0.0</td>\n",
       "      <td>test</td>\n",
       "    </tr>\n",
       "    <tr>\n",
       "      <th>7945</th>\n",
       "      <td>MBBS, MD / MS - Obstetrics &amp; Gynaecology</td>\n",
       "      <td>9 years experience</td>\n",
       "      <td>NaN</td>\n",
       "      <td>Porur, Chennai</td>\n",
       "      <td>General Medicine</td>\n",
       "      <td>NaN</td>\n",
       "      <td>0.0</td>\n",
       "      <td>test</td>\n",
       "    </tr>\n",
       "    <tr>\n",
       "      <th>7946</th>\n",
       "      <td>BDS</td>\n",
       "      <td>12 years experience</td>\n",
       "      <td>98%</td>\n",
       "      <td>Arekere, Bangalore</td>\n",
       "      <td>Dentist</td>\n",
       "      <td>RCT - Root Canal Treatment Root Canal Treatmen...</td>\n",
       "      <td>0.0</td>\n",
       "      <td>test</td>\n",
       "    </tr>\n",
       "    <tr>\n",
       "      <th>7947</th>\n",
       "      <td>MBBS, MD - Dermatology , Venereology &amp; Leprosy</td>\n",
       "      <td>8 years experience</td>\n",
       "      <td>NaN</td>\n",
       "      <td>Pallikaranai, Chennai</td>\n",
       "      <td>Dermatologists</td>\n",
       "      <td>1 Feedback Pallikaranai, Chennai ₹500</td>\n",
       "      <td>0.0</td>\n",
       "      <td>test</td>\n",
       "    </tr>\n",
       "  </tbody>\n",
       "</table>\n",
       "<p>7948 rows × 8 columns</p>\n",
       "</div>"
      ],
      "text/plain": [
       "                                       Qualification           Experience  \\\n",
       "0                              BHMS, MD - Homeopathy  24 years experience   \n",
       "1                       BAMS, MD - Ayurveda Medicine  12 years experience   \n",
       "2                     MBBS, MS - Otorhinolaryngology   9 years experience   \n",
       "3                                BSc - Zoology, BAMS  12 years experience   \n",
       "4                                               BAMS  20 years experience   \n",
       "...                                              ...                  ...   \n",
       "7943                        BAMS, Doctor of Medicine  10 years experience   \n",
       "7944  MD - Dermatology , Venereology & Leprosy, MBBS   4 years experience   \n",
       "7945        MBBS, MD / MS - Obstetrics & Gynaecology   9 years experience   \n",
       "7946                                             BDS  12 years experience   \n",
       "7947  MBBS, MD - Dermatology , Venereology & Leprosy   8 years experience   \n",
       "\n",
       "     Rating                         Place           Profile  \\\n",
       "0      100%           Kakkanad, Ernakulam         Homeopath   \n",
       "1       98%         Whitefield, Bangalore          Ayurveda   \n",
       "2       NaN    Mathikere - BEL, Bangalore    ENT Specialist   \n",
       "3       NaN  Bannerghatta Road, Bangalore          Ayurveda   \n",
       "4      100%         Keelkattalai, Chennai          Ayurveda   \n",
       "...     ...                           ...               ...   \n",
       "7943    NaN       Basavanagudi, Bangalore          Ayurveda   \n",
       "7944    NaN              Choolai, Chennai    Dermatologists   \n",
       "7945    NaN                Porur, Chennai  General Medicine   \n",
       "7946    98%            Arekere, Bangalore           Dentist   \n",
       "7947    NaN         Pallikaranai, Chennai    Dermatologists   \n",
       "\n",
       "                                     Miscellaneous_Info   Fees source  \n",
       "0                  100% 16 Feedback Kakkanad, Ernakulam  100.0  train  \n",
       "1                 98% 76 Feedback Whitefield, Bangalore  350.0  train  \n",
       "2                                                   NaN  300.0  train  \n",
       "3     Bannerghatta Road, Bangalore ₹250 Available on...  250.0  train  \n",
       "4                 100% 4 Feedback Keelkattalai, Chennai  250.0  train  \n",
       "...                                                 ...    ...    ...  \n",
       "7943                                                NaN    0.0   test  \n",
       "7944                                                NaN    0.0   test  \n",
       "7945                                                NaN    0.0   test  \n",
       "7946  RCT - Root Canal Treatment Root Canal Treatmen...    0.0   test  \n",
       "7947              1 Feedback Pallikaranai, Chennai ₹500    0.0   test  \n",
       "\n",
       "[7948 rows x 8 columns]"
      ]
     },
     "execution_count": 5,
     "metadata": {},
     "output_type": "execute_result"
    }
   ],
   "source": [
    "df"
   ]
  },
  {
   "cell_type": "code",
   "execution_count": 6,
   "metadata": {},
   "outputs": [
    {
     "data": {
      "text/plain": [
       "(7948, 8)"
      ]
     },
     "execution_count": 6,
     "metadata": {},
     "output_type": "execute_result"
    }
   ],
   "source": [
    "df.shape"
   ]
  },
  {
   "cell_type": "markdown",
   "metadata": {},
   "source": [
    "The given data set consists of 7948 rows and 8 columns"
   ]
  },
  {
   "cell_type": "code",
   "execution_count": 7,
   "metadata": {},
   "outputs": [
    {
     "data": {
      "text/plain": [
       "Qualification         1801\n",
       "Experience              64\n",
       "Rating                  52\n",
       "Place                  948\n",
       "Profile                  6\n",
       "Miscellaneous_Info    3980\n",
       "Fees                    41\n",
       "source                   2\n",
       "dtype: int64"
      ]
     },
     "execution_count": 7,
     "metadata": {},
     "output_type": "execute_result"
    }
   ],
   "source": [
    "df.nunique()"
   ]
  },
  {
   "cell_type": "code",
   "execution_count": 8,
   "metadata": {},
   "outputs": [
    {
     "data": {
      "text/plain": [
       "Qualification            0\n",
       "Experience               0\n",
       "Rating                4392\n",
       "Place                   31\n",
       "Profile                  0\n",
       "Miscellaneous_Info    3454\n",
       "Fees                     0\n",
       "source                   0\n",
       "dtype: int64"
      ]
     },
     "execution_count": 8,
     "metadata": {},
     "output_type": "execute_result"
    }
   ],
   "source": [
    "df.isnull().sum()"
   ]
  },
  {
   "cell_type": "code",
   "execution_count": 9,
   "metadata": {},
   "outputs": [
    {
     "data": {
      "text/plain": [
       "Qualification          object\n",
       "Experience             object\n",
       "Rating                 object\n",
       "Place                  object\n",
       "Profile                object\n",
       "Miscellaneous_Info     object\n",
       "Fees                  float64\n",
       "source                 object\n",
       "dtype: object"
      ]
     },
     "execution_count": 9,
     "metadata": {},
     "output_type": "execute_result"
    }
   ],
   "source": [
    "df.dtypes"
   ]
  },
  {
   "cell_type": "markdown",
   "metadata": {},
   "source": [
    "The given data consistes object and target as Integer so there is no need of removing skewness and outliers"
   ]
  },
  {
   "cell_type": "markdown",
   "metadata": {},
   "source": [
    "The rating and Miscellaneous_Info and place have missing value"
   ]
  },
  {
   "cell_type": "code",
   "execution_count": 10,
   "metadata": {},
   "outputs": [
    {
     "data": {
      "text/plain": [
       "array(['100%', '98%', nan, '99%', '79%', '95%', '97%', '94%', '88%',\n",
       "       '90%', '80%', '93%', '36%', '78%', '87%', '96%', '82%', '89%',\n",
       "       '74%', '86%', '92%', '83%', '76%', '85%', '56%', '91%', '68%',\n",
       "       '60%', '75%', '69%', '73%', '67%', '77%', '33%', '55%', '71%',\n",
       "       '84%', '45%', '63%', '72%', '81%', '62%', '57%', '7%', '48%',\n",
       "       '40%', '70%', '64%', '65%', '47%', '58%', '53%', '52%'],\n",
       "      dtype=object)"
      ]
     },
     "execution_count": 10,
     "metadata": {},
     "output_type": "execute_result"
    }
   ],
   "source": [
    "df[\"Rating\"].unique()"
   ]
  },
  {
   "cell_type": "code",
   "execution_count": 11,
   "metadata": {},
   "outputs": [],
   "source": [
    "df[\"Ratings\"]=df[\"Rating\"].replace(\"%\",\" \")"
   ]
  },
  {
   "cell_type": "code",
   "execution_count": 12,
   "metadata": {},
   "outputs": [],
   "source": [
    "for i in df['Rating'].value_counts().index:\n",
    "    df['Rating'].replace(i,int(i[:-1]),inplace=True)"
   ]
  },
  {
   "cell_type": "code",
   "execution_count": 13,
   "metadata": {},
   "outputs": [],
   "source": [
    "df=df.drop(\"Ratings\",axis=1)"
   ]
  },
  {
   "cell_type": "code",
   "execution_count": 14,
   "metadata": {},
   "outputs": [
    {
     "data": {
      "text/html": [
       "<div>\n",
       "<style scoped>\n",
       "    .dataframe tbody tr th:only-of-type {\n",
       "        vertical-align: middle;\n",
       "    }\n",
       "\n",
       "    .dataframe tbody tr th {\n",
       "        vertical-align: top;\n",
       "    }\n",
       "\n",
       "    .dataframe thead th {\n",
       "        text-align: right;\n",
       "    }\n",
       "</style>\n",
       "<table border=\"1\" class=\"dataframe\">\n",
       "  <thead>\n",
       "    <tr style=\"text-align: right;\">\n",
       "      <th></th>\n",
       "      <th>Qualification</th>\n",
       "      <th>Experience</th>\n",
       "      <th>Rating</th>\n",
       "      <th>Place</th>\n",
       "      <th>Profile</th>\n",
       "      <th>Miscellaneous_Info</th>\n",
       "      <th>Fees</th>\n",
       "      <th>source</th>\n",
       "    </tr>\n",
       "  </thead>\n",
       "  <tbody>\n",
       "    <tr>\n",
       "      <th>0</th>\n",
       "      <td>BHMS, MD - Homeopathy</td>\n",
       "      <td>24 years experience</td>\n",
       "      <td>100.0</td>\n",
       "      <td>Kakkanad, Ernakulam</td>\n",
       "      <td>Homeopath</td>\n",
       "      <td>100% 16 Feedback Kakkanad, Ernakulam</td>\n",
       "      <td>100.0</td>\n",
       "      <td>train</td>\n",
       "    </tr>\n",
       "    <tr>\n",
       "      <th>1</th>\n",
       "      <td>BAMS, MD - Ayurveda Medicine</td>\n",
       "      <td>12 years experience</td>\n",
       "      <td>98.0</td>\n",
       "      <td>Whitefield, Bangalore</td>\n",
       "      <td>Ayurveda</td>\n",
       "      <td>98% 76 Feedback Whitefield, Bangalore</td>\n",
       "      <td>350.0</td>\n",
       "      <td>train</td>\n",
       "    </tr>\n",
       "    <tr>\n",
       "      <th>2</th>\n",
       "      <td>MBBS, MS - Otorhinolaryngology</td>\n",
       "      <td>9 years experience</td>\n",
       "      <td>NaN</td>\n",
       "      <td>Mathikere - BEL, Bangalore</td>\n",
       "      <td>ENT Specialist</td>\n",
       "      <td>NaN</td>\n",
       "      <td>300.0</td>\n",
       "      <td>train</td>\n",
       "    </tr>\n",
       "    <tr>\n",
       "      <th>3</th>\n",
       "      <td>BSc - Zoology, BAMS</td>\n",
       "      <td>12 years experience</td>\n",
       "      <td>NaN</td>\n",
       "      <td>Bannerghatta Road, Bangalore</td>\n",
       "      <td>Ayurveda</td>\n",
       "      <td>Bannerghatta Road, Bangalore ₹250 Available on...</td>\n",
       "      <td>250.0</td>\n",
       "      <td>train</td>\n",
       "    </tr>\n",
       "    <tr>\n",
       "      <th>4</th>\n",
       "      <td>BAMS</td>\n",
       "      <td>20 years experience</td>\n",
       "      <td>100.0</td>\n",
       "      <td>Keelkattalai, Chennai</td>\n",
       "      <td>Ayurveda</td>\n",
       "      <td>100% 4 Feedback Keelkattalai, Chennai</td>\n",
       "      <td>250.0</td>\n",
       "      <td>train</td>\n",
       "    </tr>\n",
       "  </tbody>\n",
       "</table>\n",
       "</div>"
      ],
      "text/plain": [
       "                    Qualification           Experience  Rating  \\\n",
       "0           BHMS, MD - Homeopathy  24 years experience   100.0   \n",
       "1    BAMS, MD - Ayurveda Medicine  12 years experience    98.0   \n",
       "2  MBBS, MS - Otorhinolaryngology   9 years experience     NaN   \n",
       "3             BSc - Zoology, BAMS  12 years experience     NaN   \n",
       "4                            BAMS  20 years experience   100.0   \n",
       "\n",
       "                          Place         Profile  \\\n",
       "0           Kakkanad, Ernakulam       Homeopath   \n",
       "1         Whitefield, Bangalore        Ayurveda   \n",
       "2    Mathikere - BEL, Bangalore  ENT Specialist   \n",
       "3  Bannerghatta Road, Bangalore        Ayurveda   \n",
       "4         Keelkattalai, Chennai        Ayurveda   \n",
       "\n",
       "                                  Miscellaneous_Info   Fees source  \n",
       "0               100% 16 Feedback Kakkanad, Ernakulam  100.0  train  \n",
       "1              98% 76 Feedback Whitefield, Bangalore  350.0  train  \n",
       "2                                                NaN  300.0  train  \n",
       "3  Bannerghatta Road, Bangalore ₹250 Available on...  250.0  train  \n",
       "4              100% 4 Feedback Keelkattalai, Chennai  250.0  train  "
      ]
     },
     "execution_count": 14,
     "metadata": {},
     "output_type": "execute_result"
    }
   ],
   "source": [
    "df.head()"
   ]
  },
  {
   "cell_type": "code",
   "execution_count": 15,
   "metadata": {},
   "outputs": [],
   "source": [
    "df['Miscellaneous_Info'].fillna('0.0',inplace=True)"
   ]
  },
  {
   "cell_type": "code",
   "execution_count": 16,
   "metadata": {},
   "outputs": [],
   "source": [
    "def func(x):\n",
    "    if x!='0.0':\n",
    "        x='1.0'\n",
    "    x=float(x)\n",
    "    return x\n",
    "    \n",
    "\n",
    "df['Miscellaneous_Info']=df['Miscellaneous_Info'].apply(func)"
   ]
  },
  {
   "cell_type": "code",
   "execution_count": 17,
   "metadata": {},
   "outputs": [],
   "source": [
    "df['qualifications']=df['Qualification'].apply(lambda x: float(len(x.split(','))))"
   ]
  },
  {
   "cell_type": "code",
   "execution_count": 18,
   "metadata": {},
   "outputs": [],
   "source": [
    "df=df.drop(\"Qualification\",axis=1)"
   ]
  },
  {
   "cell_type": "code",
   "execution_count": 19,
   "metadata": {},
   "outputs": [],
   "source": [
    "df['Experience']=df['Experience'].apply(lambda x: float(x[:2]))"
   ]
  },
  {
   "cell_type": "code",
   "execution_count": 20,
   "metadata": {},
   "outputs": [],
   "source": [
    "df['Place'].fillna('Unknown, Unknown',inplace=True)"
   ]
  },
  {
   "cell_type": "code",
   "execution_count": 21,
   "metadata": {},
   "outputs": [],
   "source": [
    "def A(x):\n",
    "    if ',' in x:\n",
    "        x=x.split(',')\n",
    "        return x[0]\n",
    "    else:\n",
    "        return 'Unknown'\n",
    "\n",
    "df['Location']=df['Place'].apply(A)"
   ]
  },
  {
   "cell_type": "code",
   "execution_count": 22,
   "metadata": {},
   "outputs": [
    {
     "data": {
      "text/plain": [
       "Andheri West      97\n",
       "HSR Layout        97\n",
       "Dwarka            94\n",
       "Banjara Hills     85\n",
       "Mulund West       81\n",
       "                  ..\n",
       "Sagar Road         1\n",
       "Athani             1\n",
       "Parassala          1\n",
       "Sewri              1\n",
       "Pasur-avanashi     1\n",
       "Name: Location, Length: 937, dtype: int64"
      ]
     },
     "execution_count": 22,
     "metadata": {},
     "output_type": "execute_result"
    }
   ],
   "source": [
    "df['Location'].value_counts()"
   ]
  },
  {
   "cell_type": "code",
   "execution_count": 23,
   "metadata": {},
   "outputs": [],
   "source": [
    "def C(x):\n",
    "    if ',' in x:\n",
    "        x=x.split(',')\n",
    "        return x[1].strip()\n",
    "    else:\n",
    "        return x\n",
    "\n",
    "df['City']=df['Place'].apply(C)"
   ]
  },
  {
   "cell_type": "code",
   "execution_count": 24,
   "metadata": {},
   "outputs": [],
   "source": [
    "df=df.drop(\"Place\",axis=1)"
   ]
  },
  {
   "cell_type": "code",
   "execution_count": 25,
   "metadata": {},
   "outputs": [
    {
     "data": {
      "text/html": [
       "<div>\n",
       "<style scoped>\n",
       "    .dataframe tbody tr th:only-of-type {\n",
       "        vertical-align: middle;\n",
       "    }\n",
       "\n",
       "    .dataframe tbody tr th {\n",
       "        vertical-align: top;\n",
       "    }\n",
       "\n",
       "    .dataframe thead th {\n",
       "        text-align: right;\n",
       "    }\n",
       "</style>\n",
       "<table border=\"1\" class=\"dataframe\">\n",
       "  <thead>\n",
       "    <tr style=\"text-align: right;\">\n",
       "      <th></th>\n",
       "      <th>Experience</th>\n",
       "      <th>Rating</th>\n",
       "      <th>Profile</th>\n",
       "      <th>Miscellaneous_Info</th>\n",
       "      <th>Fees</th>\n",
       "      <th>source</th>\n",
       "      <th>qualifications</th>\n",
       "      <th>Location</th>\n",
       "      <th>City</th>\n",
       "    </tr>\n",
       "  </thead>\n",
       "  <tbody>\n",
       "    <tr>\n",
       "      <th>0</th>\n",
       "      <td>24.0</td>\n",
       "      <td>100.0</td>\n",
       "      <td>Homeopath</td>\n",
       "      <td>1.0</td>\n",
       "      <td>100.0</td>\n",
       "      <td>train</td>\n",
       "      <td>2.0</td>\n",
       "      <td>Kakkanad</td>\n",
       "      <td>Ernakulam</td>\n",
       "    </tr>\n",
       "    <tr>\n",
       "      <th>1</th>\n",
       "      <td>12.0</td>\n",
       "      <td>98.0</td>\n",
       "      <td>Ayurveda</td>\n",
       "      <td>1.0</td>\n",
       "      <td>350.0</td>\n",
       "      <td>train</td>\n",
       "      <td>2.0</td>\n",
       "      <td>Whitefield</td>\n",
       "      <td>Bangalore</td>\n",
       "    </tr>\n",
       "    <tr>\n",
       "      <th>2</th>\n",
       "      <td>9.0</td>\n",
       "      <td>NaN</td>\n",
       "      <td>ENT Specialist</td>\n",
       "      <td>0.0</td>\n",
       "      <td>300.0</td>\n",
       "      <td>train</td>\n",
       "      <td>2.0</td>\n",
       "      <td>Mathikere - BEL</td>\n",
       "      <td>Bangalore</td>\n",
       "    </tr>\n",
       "    <tr>\n",
       "      <th>3</th>\n",
       "      <td>12.0</td>\n",
       "      <td>NaN</td>\n",
       "      <td>Ayurveda</td>\n",
       "      <td>1.0</td>\n",
       "      <td>250.0</td>\n",
       "      <td>train</td>\n",
       "      <td>2.0</td>\n",
       "      <td>Bannerghatta Road</td>\n",
       "      <td>Bangalore</td>\n",
       "    </tr>\n",
       "    <tr>\n",
       "      <th>4</th>\n",
       "      <td>20.0</td>\n",
       "      <td>100.0</td>\n",
       "      <td>Ayurveda</td>\n",
       "      <td>1.0</td>\n",
       "      <td>250.0</td>\n",
       "      <td>train</td>\n",
       "      <td>1.0</td>\n",
       "      <td>Keelkattalai</td>\n",
       "      <td>Chennai</td>\n",
       "    </tr>\n",
       "  </tbody>\n",
       "</table>\n",
       "</div>"
      ],
      "text/plain": [
       "   Experience  Rating         Profile  Miscellaneous_Info   Fees source  \\\n",
       "0        24.0   100.0       Homeopath                 1.0  100.0  train   \n",
       "1        12.0    98.0        Ayurveda                 1.0  350.0  train   \n",
       "2         9.0     NaN  ENT Specialist                 0.0  300.0  train   \n",
       "3        12.0     NaN        Ayurveda                 1.0  250.0  train   \n",
       "4        20.0   100.0        Ayurveda                 1.0  250.0  train   \n",
       "\n",
       "   qualifications           Location       City  \n",
       "0             2.0           Kakkanad  Ernakulam  \n",
       "1             2.0         Whitefield  Bangalore  \n",
       "2             2.0    Mathikere - BEL  Bangalore  \n",
       "3             2.0  Bannerghatta Road  Bangalore  \n",
       "4             1.0       Keelkattalai    Chennai  "
      ]
     },
     "execution_count": 25,
     "metadata": {},
     "output_type": "execute_result"
    }
   ],
   "source": [
    "df.head()"
   ]
  },
  {
   "cell_type": "code",
   "execution_count": 26,
   "metadata": {},
   "outputs": [
    {
     "data": {
      "text/plain": [
       "<seaborn.axisgrid.FacetGrid at 0x119a2f18910>"
      ]
     },
     "execution_count": 26,
     "metadata": {},
     "output_type": "execute_result"
    },
    {
     "data": {
      "image/png": "[encoded data removed]",
      "text/plain": [
       "<Figure size 1080x1080 with 1 Axes>"
      ]
     },
     "metadata": {
      "needs_background": "light"
     },
     "output_type": "display_data"
    }
   ],
   "source": [
    "sb.catplot(x=\"Fees\",y=\"Rating\",data=df.sort_values(\"Fees\", ascending= False), kind=\"boxen\", height = 15, aspect = 1)"
   ]
  },
  {
   "cell_type": "code",
   "execution_count": 27,
   "metadata": {},
   "outputs": [
    {
     "data": {
      "text/plain": [
       "<seaborn.axisgrid.FacetGrid at 0x119a3823400>"
      ]
     },
     "execution_count": 27,
     "metadata": {},
     "output_type": "execute_result"
    },
    {
     "data": {
      "image/png": "[encoded data removed]",
      "text/plain": [
       "<Figure size 1080x1080 with 1 Axes>"
      ]
     },
     "metadata": {
      "needs_background": "light"
     },
     "output_type": "display_data"
    }
   ],
   "source": [
    "sb.catplot(x=\"Fees\",y=\"Experience\",data=df.sort_values(\"Fees\", ascending= False), kind=\"boxen\", height = 15, aspect = 1)"
   ]
  },
  {
   "cell_type": "code",
   "execution_count": 28,
   "metadata": {},
   "outputs": [
    {
     "data": {
      "text/plain": [
       "<seaborn.axisgrid.FacetGrid at 0x119a3e68e20>"
      ]
     },
     "execution_count": 28,
     "metadata": {},
     "output_type": "execute_result"
    },
    {
     "data": {
      "image/png": "[encoded data removed]",
      "text/plain": [
       "<Figure size 1080x1080 with 1 Axes>"
      ]
     },
     "metadata": {
      "needs_background": "light"
     },
     "output_type": "display_data"
    }
   ],
   "source": [
    "sb.catplot(x=\"Fees\",y=\"Profile\",data=df.sort_values(\"Fees\", ascending= False), kind=\"boxen\", height = 15, aspect = 1)"
   ]
  },
  {
   "cell_type": "code",
   "execution_count": 29,
   "metadata": {},
   "outputs": [
    {
     "data": {
      "text/plain": [
       "<seaborn.axisgrid.FacetGrid at 0x119a3f3c400>"
      ]
     },
     "execution_count": 29,
     "metadata": {},
     "output_type": "execute_result"
    },
    {
     "data": {
      "image/png": "[encoded data removed]",
      "text/plain": [
       "<Figure size 1080x1080 with 1 Axes>"
      ]
     },
     "metadata": {
      "needs_background": "light"
     },
     "output_type": "display_data"
    }
   ],
   "source": [
    "sb.catplot(x=\"Fees\",y=\"Miscellaneous_Info\",data=df.sort_values(\"Fees\", ascending= False), kind=\"boxen\", height = 15, aspect = 1)"
   ]
  },
  {
   "cell_type": "code",
   "execution_count": 30,
   "metadata": {},
   "outputs": [
    {
     "data": {
      "text/plain": [
       "<seaborn.axisgrid.FacetGrid at 0x119a4060eb0>"
      ]
     },
     "execution_count": 30,
     "metadata": {},
     "output_type": "execute_result"
    },
    {
     "data": {
      "image/png": "[encoded data removed]",
      "text/plain": [
       "<Figure size 1080x1080 with 1 Axes>"
      ]
     },
     "metadata": {
      "needs_background": "light"
     },
     "output_type": "display_data"
    }
   ],
   "source": [
    "sb.catplot(x=\"Fees\",y=\"City\",data=df.sort_values(\"Fees\", ascending= False), kind=\"boxen\", height = 15, aspect = 1)"
   ]
  },
  {
   "cell_type": "code",
   "execution_count": 31,
   "metadata": {},
   "outputs": [
    {
     "data": {
      "image/png": "[encoded data removed]",
      "text/plain": [
       "<Figure size 576x432 with 1 Axes>"
      ]
     },
     "metadata": {
      "needs_background": "light"
     },
     "output_type": "display_data"
    },
    {
     "data": {
      "image/png": "[encoded data removed]",
      "text/plain": [
       "<Figure size 576x432 with 1 Axes>"
      ]
     },
     "metadata": {
      "needs_background": "light"
     },
     "output_type": "display_data"
    },
    {
     "data": {
      "image/png": "[encoded data removed]",
      "text/plain": [
       "<Figure size 576x432 with 1 Axes>"
      ]
     },
     "metadata": {
      "needs_background": "light"
     },
     "output_type": "display_data"
    },
    {
     "data": {
      "image/png": "[encoded data removed]",
      "text/plain": [
       "<Figure size 576x432 with 1 Axes>"
      ]
     },
     "metadata": {
      "needs_background": "light"
     },
     "output_type": "display_data"
    },
    {
     "data": {
      "image/png": "[encoded data removed]",
      "text/plain": [
       "<Figure size 576x432 with 1 Axes>"
      ]
     },
     "metadata": {
      "needs_background": "light"
     },
     "output_type": "display_data"
    },
    {
     "data": {
      "image/png": "[encoded data removed]",
      "text/plain": [
       "<Figure size 576x432 with 1 Axes>"
      ]
     },
     "metadata": {
      "needs_background": "light"
     },
     "output_type": "display_data"
    },
    {
     "data": {
      "image/png": "[encoded data removed]",
      "text/plain": [
       "<Figure size 576x432 with 1 Axes>"
      ]
     },
     "metadata": {
      "needs_background": "light"
     },
     "output_type": "display_data"
    },
    {
     "data": {
      "image/png": "[encoded data removed]",
      "text/plain": [
       "<Figure size 576x432 with 1 Axes>"
      ]
     },
     "metadata": {
      "needs_background": "light"
     },
     "output_type": "display_data"
    },
    {
     "data": {
      "image/png": "[encoded data removed]",
      "text/plain": [
       "<Figure size 576x432 with 1 Axes>"
      ]
     },
     "metadata": {
      "needs_background": "light"
     },
     "output_type": "display_data"
    }
   ],
   "source": [
    "for i in df.columns:\n",
    "    plt.figure(figsize=(8,6))\n",
    "    sb.histplot(df[i],kde=True,color='k')"
   ]
  },
  {
   "cell_type": "code",
   "execution_count": 32,
   "metadata": {},
   "outputs": [
    {
     "data": {
      "text/plain": [
       "Index(['Experience', 'Rating', 'Profile', 'Miscellaneous_Info', 'Fees',\n",
       "       'source', 'qualifications', 'Location', 'City'],\n",
       "      dtype='object')"
      ]
     },
     "execution_count": 32,
     "metadata": {},
     "output_type": "execute_result"
    }
   ],
   "source": [
    "df.columns"
   ]
  },
  {
   "cell_type": "code",
   "execution_count": 33,
   "metadata": {},
   "outputs": [
    {
     "data": {
      "image/png": "[encoded data removed]",
      "text/plain": [
       "<Figure size 432x288 with 1 Axes>"
      ]
     },
     "metadata": {
      "needs_background": "light"
     },
     "output_type": "display_data"
    },
    {
     "data": {
      "image/png": "[encoded data removed]",
      "text/plain": [
       "<Figure size 432x288 with 1 Axes>"
      ]
     },
     "metadata": {
      "needs_background": "light"
     },
     "output_type": "display_data"
    },
    {
     "data": {
      "image/png": "[encoded data removed]",
      "text/plain": [
       "<Figure size 432x288 with 1 Axes>"
      ]
     },
     "metadata": {
      "needs_background": "light"
     },
     "output_type": "display_data"
    },
    {
     "data": {
      "image/png": "[encoded data removed]",
      "text/plain": [
       "<Figure size 432x288 with 1 Axes>"
      ]
     },
     "metadata": {
      "needs_background": "light"
     },
     "output_type": "display_data"
    },
    {
     "data": {
      "image/png": "[encoded data removed]",
      "text/plain": [
       "<Figure size 432x288 with 1 Axes>"
      ]
     },
     "metadata": {
      "needs_background": "light"
     },
     "output_type": "display_data"
    }
   ],
   "source": [
    "column=['Experience', 'Rating', 'Miscellaneous_Info', 'Fees','qualifications']\n",
    "for i in df[column]:\n",
    "    plt.figure()\n",
    "    sb.boxplot(df[i])\n",
    "    "
   ]
  },
  {
   "cell_type": "code",
   "execution_count": 34,
   "metadata": {},
   "outputs": [
    {
     "data": {
      "text/plain": [
       "<AxesSubplot:xlabel='Profile', ylabel='Fees'>"
      ]
     },
     "execution_count": 34,
     "metadata": {},
     "output_type": "execute_result"
    },
    {
     "data": {
      "image/png": "[encoded data removed]",
      "text/plain": [
       "<Figure size 864x432 with 1 Axes>"
      ]
     },
     "metadata": {
      "needs_background": "light"
     },
     "output_type": "display_data"
    }
   ],
   "source": [
    "plt.figure(figsize=(12,6))\n",
    "sb.boxenplot(x='Profile',y='Fees',data=df)"
   ]
  },
  {
   "cell_type": "code",
   "execution_count": 35,
   "metadata": {},
   "outputs": [
    {
     "data": {
      "text/plain": [
       "<AxesSubplot:xlabel='Miscellaneous_Info', ylabel='Fees'>"
      ]
     },
     "execution_count": 35,
     "metadata": {},
     "output_type": "execute_result"
    },
    {
     "data": {
      "image/png": "[encoded data removed]",
      "text/plain": [
       "<Figure size 864x432 with 1 Axes>"
      ]
     },
     "metadata": {
      "needs_background": "light"
     },
     "output_type": "display_data"
    }
   ],
   "source": [
    "plt.figure(figsize=(12,6))\n",
    "sb.boxenplot(x='Miscellaneous_Info',y='Fees',data=df)"
   ]
  },
  {
   "cell_type": "code",
   "execution_count": 36,
   "metadata": {},
   "outputs": [
    {
     "data": {
      "text/plain": [
       "<AxesSubplot:xlabel='qualifications', ylabel='Fees'>"
      ]
     },
     "execution_count": 36,
     "metadata": {},
     "output_type": "execute_result"
    },
    {
     "data": {
      "image/png": "[encoded data removed]",
      "text/plain": [
       "<Figure size 864x432 with 1 Axes>"
      ]
     },
     "metadata": {
      "needs_background": "light"
     },
     "output_type": "display_data"
    }
   ],
   "source": [
    "plt.figure(figsize=(12,6))\n",
    "sb.boxenplot(x='qualifications',y='Fees',data=df)"
   ]
  },
  {
   "cell_type": "code",
   "execution_count": 37,
   "metadata": {},
   "outputs": [
    {
     "data": {
      "text/plain": [
       "(array([ 0,  1,  2,  3,  4,  5,  6,  7,  8,  9, 10]),\n",
       " [Text(0, 0, 'Ernakulam'),\n",
       "  Text(1, 0, 'Bangalore'),\n",
       "  Text(2, 0, 'Chennai'),\n",
       "  Text(3, 0, 'Delhi'),\n",
       "  Text(4, 0, 'Hyderabad'),\n",
       "  Text(5, 0, 'Coimbatore'),\n",
       "  Text(6, 0, 'Mumbai'),\n",
       "  Text(7, 0, 'Thiruvananthapuram'),\n",
       "  Text(8, 0, 'Unknown'),\n",
       "  Text(9, 0, 'Sector 5'),\n",
       "  Text(10, 0, 'e')])"
      ]
     },
     "execution_count": 37,
     "metadata": {},
     "output_type": "execute_result"
    },
    {
     "data": {
      "image/png": "[encoded data removed]",
      "text/plain": [
       "<Figure size 1080x432 with 1 Axes>"
      ]
     },
     "metadata": {
      "needs_background": "light"
     },
     "output_type": "display_data"
    }
   ],
   "source": [
    "plt.figure(figsize=(15,6))\n",
    "sb.boxenplot(x='City',y='Fees',data=df)\n",
    "plt.xticks(rotation=45)"
   ]
  },
  {
   "cell_type": "code",
   "execution_count": 38,
   "metadata": {},
   "outputs": [
    {
     "data": {
      "text/plain": [
       "<AxesSubplot:xlabel='Profile', ylabel='qualifications'>"
      ]
     },
     "execution_count": 38,
     "metadata": {},
     "output_type": "execute_result"
    },
    {
     "data": {
      "image/png": "[encoded data removed]",
      "text/plain": [
       "<Figure size 1080x432 with 1 Axes>"
      ]
     },
     "metadata": {
      "needs_background": "light"
     },
     "output_type": "display_data"
    }
   ],
   "source": [
    "plt.figure(figsize=(15,6))\n",
    "sb.violinplot(x='Profile',y='qualifications',data=df)"
   ]
  },
  {
   "cell_type": "code",
   "execution_count": 39,
   "metadata": {},
   "outputs": [
    {
     "data": {
      "text/plain": [
       "<AxesSubplot:xlabel='qualifications', ylabel='Experience'>"
      ]
     },
     "execution_count": 39,
     "metadata": {},
     "output_type": "execute_result"
    },
    {
     "data": {
      "image/png": "[encoded data removed]",
      "text/plain": [
       "<Figure size 864x432 with 1 Axes>"
      ]
     },
     "metadata": {
      "needs_background": "light"
     },
     "output_type": "display_data"
    }
   ],
   "source": [
    "plt.figure(figsize=(12,6))\n",
    "sb.stripplot(x='qualifications',y='Experience',data=df)"
   ]
  },
  {
   "cell_type": "code",
   "execution_count": 40,
   "metadata": {},
   "outputs": [
    {
     "data": {
      "text/plain": [
       "Index(['Experience', 'Rating', 'Profile', 'Miscellaneous_Info', 'Fees',\n",
       "       'source', 'qualifications', 'Location', 'City'],\n",
       "      dtype='object')"
      ]
     },
     "execution_count": 40,
     "metadata": {},
     "output_type": "execute_result"
    }
   ],
   "source": [
    "df.columns"
   ]
  },
  {
   "cell_type": "code",
   "execution_count": 41,
   "metadata": {},
   "outputs": [
    {
     "data": {
      "image/png": "[encoded data removed]",
      "text/plain": [
       "<Figure size 432x288 with 1 Axes>"
      ]
     },
     "metadata": {
      "needs_background": "light"
     },
     "output_type": "display_data"
    }
   ],
   "source": [
    "sb.countplot(x=\"Miscellaneous_Info\",hue=\"Profile\",data=df)\n",
    "plt.show()"
   ]
  },
  {
   "cell_type": "code",
   "execution_count": 42,
   "metadata": {},
   "outputs": [
    {
     "data": {
      "image/png": "[encoded data removed]",
      "text/plain": [
       "<Figure size 1440x432 with 1 Axes>"
      ]
     },
     "metadata": {
      "needs_background": "light"
     },
     "output_type": "display_data"
    }
   ],
   "source": [
    "plt.figure(figsize=(20,6))\n",
    "sb.countplot(x=\"Fees\",hue=\"Profile\",data=df)\n",
    "plt.show()"
   ]
  },
  {
   "cell_type": "code",
   "execution_count": 43,
   "metadata": {},
   "outputs": [
    {
     "data": {
      "image/png": "[encoded data removed]",
      "text/plain": [
       "<Figure size 1440x432 with 1 Axes>"
      ]
     },
     "metadata": {
      "needs_background": "light"
     },
     "output_type": "display_data"
    }
   ],
   "source": [
    "plt.figure(figsize=(20,6))\n",
    "sb.countplot(x=\"Experience\",hue=\"Profile\",data=df)\n",
    "plt.show()"
   ]
  },
  {
   "cell_type": "code",
   "execution_count": 44,
   "metadata": {},
   "outputs": [
    {
     "data": {
      "image/png": "[encoded data removed]",
      "text/plain": [
       "<Figure size 432x288 with 1 Axes>"
      ]
     },
     "metadata": {
      "needs_background": "light"
     },
     "output_type": "display_data"
    },
    {
     "data": {
      "image/png": "[encoded data removed]",
      "text/plain": [
       "<Figure size 432x288 with 1 Axes>"
      ]
     },
     "metadata": {
      "needs_background": "light"
     },
     "output_type": "display_data"
    },
    {
     "data": {
      "image/png": "[encoded data removed]",
      "text/plain": [
       "<Figure size 432x288 with 1 Axes>"
      ]
     },
     "metadata": {
      "needs_background": "light"
     },
     "output_type": "display_data"
    },
    {
     "data": {
      "image/png": "[encoded data removed]",
      "text/plain": [
       "<Figure size 432x288 with 1 Axes>"
      ]
     },
     "metadata": {
      "needs_background": "light"
     },
     "output_type": "display_data"
    },
    {
     "data": {
      "image/png": "[encoded data removed]",
      "text/plain": [
       "<Figure size 432x288 with 1 Axes>"
      ]
     },
     "metadata": {
      "needs_background": "light"
     },
     "output_type": "display_data"
    }
   ],
   "source": [
    "column=['Experience', 'Rating', 'Miscellaneous_Info', 'Fees','qualifications']\n",
    "for i in df[column]:\n",
    "    plt.figure()\n",
    "    sb.distplot(df[i])"
   ]
  },
  {
   "cell_type": "code",
   "execution_count": 45,
   "metadata": {},
   "outputs": [],
   "source": [
    "df['Experience']=np.sqrt(df['Experience'])"
   ]
  },
  {
   "cell_type": "code",
   "execution_count": 46,
   "metadata": {},
   "outputs": [
    {
     "data": {
      "text/plain": [
       "Experience               0\n",
       "Rating                4392\n",
       "Profile                  0\n",
       "Miscellaneous_Info       0\n",
       "Fees                     0\n",
       "source                   0\n",
       "qualifications           0\n",
       "Location                 0\n",
       "City                     0\n",
       "dtype: int64"
      ]
     },
     "execution_count": 46,
     "metadata": {},
     "output_type": "execute_result"
    }
   ],
   "source": [
    "df.isnull().sum()"
   ]
  },
  {
   "cell_type": "code",
   "execution_count": 47,
   "metadata": {},
   "outputs": [],
   "source": [
    "df['Rating'].fillna(-999,inplace=True)"
   ]
  },
  {
   "cell_type": "code",
   "execution_count": 48,
   "metadata": {},
   "outputs": [
    {
     "data": {
      "text/plain": [
       "<AxesSubplot:>"
      ]
     },
     "execution_count": 48,
     "metadata": {},
     "output_type": "execute_result"
    },
    {
     "data": {
      "image/png": "[encoded data removed]",
      "text/plain": [
       "<Figure size 432x288 with 2 Axes>"
      ]
     },
     "metadata": {
      "needs_background": "light"
     },
     "output_type": "display_data"
    }
   ],
   "source": [
    "sb.heatmap(df.isnull())"
   ]
  },
  {
   "cell_type": "code",
   "execution_count": 49,
   "metadata": {},
   "outputs": [
    {
     "data": {
      "text/html": [
       "<div>\n",
       "<style scoped>\n",
       "    .dataframe tbody tr th:only-of-type {\n",
       "        vertical-align: middle;\n",
       "    }\n",
       "\n",
       "    .dataframe tbody tr th {\n",
       "        vertical-align: top;\n",
       "    }\n",
       "\n",
       "    .dataframe thead th {\n",
       "        text-align: right;\n",
       "    }\n",
       "</style>\n",
       "<table border=\"1\" class=\"dataframe\">\n",
       "  <thead>\n",
       "    <tr style=\"text-align: right;\">\n",
       "      <th></th>\n",
       "      <th>Experience</th>\n",
       "      <th>Rating</th>\n",
       "      <th>Profile</th>\n",
       "      <th>Miscellaneous_Info</th>\n",
       "      <th>Fees</th>\n",
       "      <th>source</th>\n",
       "      <th>qualifications</th>\n",
       "      <th>Location</th>\n",
       "      <th>City</th>\n",
       "    </tr>\n",
       "  </thead>\n",
       "  <tbody>\n",
       "    <tr>\n",
       "      <th>0</th>\n",
       "      <td>4.898979</td>\n",
       "      <td>100.0</td>\n",
       "      <td>Homeopath</td>\n",
       "      <td>1.0</td>\n",
       "      <td>100.0</td>\n",
       "      <td>train</td>\n",
       "      <td>2.0</td>\n",
       "      <td>Kakkanad</td>\n",
       "      <td>Ernakulam</td>\n",
       "    </tr>\n",
       "    <tr>\n",
       "      <th>1</th>\n",
       "      <td>3.464102</td>\n",
       "      <td>98.0</td>\n",
       "      <td>Ayurveda</td>\n",
       "      <td>1.0</td>\n",
       "      <td>350.0</td>\n",
       "      <td>train</td>\n",
       "      <td>2.0</td>\n",
       "      <td>Whitefield</td>\n",
       "      <td>Bangalore</td>\n",
       "    </tr>\n",
       "    <tr>\n",
       "      <th>2</th>\n",
       "      <td>3.000000</td>\n",
       "      <td>-999.0</td>\n",
       "      <td>ENT Specialist</td>\n",
       "      <td>0.0</td>\n",
       "      <td>300.0</td>\n",
       "      <td>train</td>\n",
       "      <td>2.0</td>\n",
       "      <td>Mathikere - BEL</td>\n",
       "      <td>Bangalore</td>\n",
       "    </tr>\n",
       "    <tr>\n",
       "      <th>3</th>\n",
       "      <td>3.464102</td>\n",
       "      <td>-999.0</td>\n",
       "      <td>Ayurveda</td>\n",
       "      <td>1.0</td>\n",
       "      <td>250.0</td>\n",
       "      <td>train</td>\n",
       "      <td>2.0</td>\n",
       "      <td>Bannerghatta Road</td>\n",
       "      <td>Bangalore</td>\n",
       "    </tr>\n",
       "    <tr>\n",
       "      <th>4</th>\n",
       "      <td>4.472136</td>\n",
       "      <td>100.0</td>\n",
       "      <td>Ayurveda</td>\n",
       "      <td>1.0</td>\n",
       "      <td>250.0</td>\n",
       "      <td>train</td>\n",
       "      <td>1.0</td>\n",
       "      <td>Keelkattalai</td>\n",
       "      <td>Chennai</td>\n",
       "    </tr>\n",
       "    <tr>\n",
       "      <th>...</th>\n",
       "      <td>...</td>\n",
       "      <td>...</td>\n",
       "      <td>...</td>\n",
       "      <td>...</td>\n",
       "      <td>...</td>\n",
       "      <td>...</td>\n",
       "      <td>...</td>\n",
       "      <td>...</td>\n",
       "      <td>...</td>\n",
       "    </tr>\n",
       "    <tr>\n",
       "      <th>7943</th>\n",
       "      <td>3.162278</td>\n",
       "      <td>-999.0</td>\n",
       "      <td>Ayurveda</td>\n",
       "      <td>0.0</td>\n",
       "      <td>0.0</td>\n",
       "      <td>test</td>\n",
       "      <td>2.0</td>\n",
       "      <td>Basavanagudi</td>\n",
       "      <td>Bangalore</td>\n",
       "    </tr>\n",
       "    <tr>\n",
       "      <th>7944</th>\n",
       "      <td>2.000000</td>\n",
       "      <td>-999.0</td>\n",
       "      <td>Dermatologists</td>\n",
       "      <td>0.0</td>\n",
       "      <td>0.0</td>\n",
       "      <td>test</td>\n",
       "      <td>3.0</td>\n",
       "      <td>Choolai</td>\n",
       "      <td>Chennai</td>\n",
       "    </tr>\n",
       "    <tr>\n",
       "      <th>7945</th>\n",
       "      <td>3.000000</td>\n",
       "      <td>-999.0</td>\n",
       "      <td>General Medicine</td>\n",
       "      <td>0.0</td>\n",
       "      <td>0.0</td>\n",
       "      <td>test</td>\n",
       "      <td>2.0</td>\n",
       "      <td>Porur</td>\n",
       "      <td>Chennai</td>\n",
       "    </tr>\n",
       "    <tr>\n",
       "      <th>7946</th>\n",
       "      <td>3.464102</td>\n",
       "      <td>98.0</td>\n",
       "      <td>Dentist</td>\n",
       "      <td>1.0</td>\n",
       "      <td>0.0</td>\n",
       "      <td>test</td>\n",
       "      <td>1.0</td>\n",
       "      <td>Arekere</td>\n",
       "      <td>Bangalore</td>\n",
       "    </tr>\n",
       "    <tr>\n",
       "      <th>7947</th>\n",
       "      <td>2.828427</td>\n",
       "      <td>-999.0</td>\n",
       "      <td>Dermatologists</td>\n",
       "      <td>1.0</td>\n",
       "      <td>0.0</td>\n",
       "      <td>test</td>\n",
       "      <td>3.0</td>\n",
       "      <td>Pallikaranai</td>\n",
       "      <td>Chennai</td>\n",
       "    </tr>\n",
       "  </tbody>\n",
       "</table>\n",
       "<p>7948 rows × 9 columns</p>\n",
       "</div>"
      ],
      "text/plain": [
       "      Experience  Rating           Profile  Miscellaneous_Info   Fees source  \\\n",
       "0       4.898979   100.0         Homeopath                 1.0  100.0  train   \n",
       "1       3.464102    98.0          Ayurveda                 1.0  350.0  train   \n",
       "2       3.000000  -999.0    ENT Specialist                 0.0  300.0  train   \n",
       "3       3.464102  -999.0          Ayurveda                 1.0  250.0  train   \n",
       "4       4.472136   100.0          Ayurveda                 1.0  250.0  train   \n",
       "...          ...     ...               ...                 ...    ...    ...   \n",
       "7943    3.162278  -999.0          Ayurveda                 0.0    0.0   test   \n",
       "7944    2.000000  -999.0    Dermatologists                 0.0    0.0   test   \n",
       "7945    3.000000  -999.0  General Medicine                 0.0    0.0   test   \n",
       "7946    3.464102    98.0           Dentist                 1.0    0.0   test   \n",
       "7947    2.828427  -999.0    Dermatologists                 1.0    0.0   test   \n",
       "\n",
       "      qualifications           Location       City  \n",
       "0                2.0           Kakkanad  Ernakulam  \n",
       "1                2.0         Whitefield  Bangalore  \n",
       "2                2.0    Mathikere - BEL  Bangalore  \n",
       "3                2.0  Bannerghatta Road  Bangalore  \n",
       "4                1.0       Keelkattalai    Chennai  \n",
       "...              ...                ...        ...  \n",
       "7943             2.0       Basavanagudi  Bangalore  \n",
       "7944             3.0            Choolai    Chennai  \n",
       "7945             2.0              Porur    Chennai  \n",
       "7946             1.0            Arekere  Bangalore  \n",
       "7947             3.0       Pallikaranai    Chennai  \n",
       "\n",
       "[7948 rows x 9 columns]"
      ]
     },
     "execution_count": 49,
     "metadata": {},
     "output_type": "execute_result"
    }
   ],
   "source": [
    "df"
   ]
  },
  {
   "cell_type": "code",
   "execution_count": 50,
   "metadata": {},
   "outputs": [],
   "source": [
    "def category(x):\n",
    "    if x>=0 and x<100:\n",
    "        return '0-100'\n",
    "    elif x>=100 and x<250:\n",
    "        return '100-250'\n",
    "    elif x>=250 and x<400:\n",
    "        return '250-400'\n",
    "    elif x>=400 and x<600:\n",
    "        return '400-600'\n",
    "    elif x>=600 and x<800:\n",
    "        return '600-800'\n",
    "    else:\n",
    "        return '800-950'\n",
    "\n",
    "df['Fee_category']=df['Fees'].apply(category)"
   ]
  },
  {
   "cell_type": "code",
   "execution_count": 51,
   "metadata": {},
   "outputs": [
    {
     "data": {
      "text/html": [
       "<div>\n",
       "<style scoped>\n",
       "    .dataframe tbody tr th:only-of-type {\n",
       "        vertical-align: middle;\n",
       "    }\n",
       "\n",
       "    .dataframe tbody tr th {\n",
       "        vertical-align: top;\n",
       "    }\n",
       "\n",
       "    .dataframe thead th {\n",
       "        text-align: right;\n",
       "    }\n",
       "</style>\n",
       "<table border=\"1\" class=\"dataframe\">\n",
       "  <thead>\n",
       "    <tr style=\"text-align: right;\">\n",
       "      <th></th>\n",
       "      <th>Experience</th>\n",
       "      <th>Rating</th>\n",
       "      <th>Profile</th>\n",
       "      <th>Miscellaneous_Info</th>\n",
       "      <th>Fees</th>\n",
       "      <th>source</th>\n",
       "      <th>qualifications</th>\n",
       "      <th>Location</th>\n",
       "      <th>City</th>\n",
       "      <th>Fee_category</th>\n",
       "    </tr>\n",
       "  </thead>\n",
       "  <tbody>\n",
       "    <tr>\n",
       "      <th>0</th>\n",
       "      <td>4.898979</td>\n",
       "      <td>100.0</td>\n",
       "      <td>Homeopath</td>\n",
       "      <td>1.0</td>\n",
       "      <td>100.0</td>\n",
       "      <td>train</td>\n",
       "      <td>2.0</td>\n",
       "      <td>Kakkanad</td>\n",
       "      <td>Ernakulam</td>\n",
       "      <td>100-250</td>\n",
       "    </tr>\n",
       "    <tr>\n",
       "      <th>1</th>\n",
       "      <td>3.464102</td>\n",
       "      <td>98.0</td>\n",
       "      <td>Ayurveda</td>\n",
       "      <td>1.0</td>\n",
       "      <td>350.0</td>\n",
       "      <td>train</td>\n",
       "      <td>2.0</td>\n",
       "      <td>Whitefield</td>\n",
       "      <td>Bangalore</td>\n",
       "      <td>250-400</td>\n",
       "    </tr>\n",
       "    <tr>\n",
       "      <th>2</th>\n",
       "      <td>3.000000</td>\n",
       "      <td>-999.0</td>\n",
       "      <td>ENT Specialist</td>\n",
       "      <td>0.0</td>\n",
       "      <td>300.0</td>\n",
       "      <td>train</td>\n",
       "      <td>2.0</td>\n",
       "      <td>Mathikere - BEL</td>\n",
       "      <td>Bangalore</td>\n",
       "      <td>250-400</td>\n",
       "    </tr>\n",
       "    <tr>\n",
       "      <th>3</th>\n",
       "      <td>3.464102</td>\n",
       "      <td>-999.0</td>\n",
       "      <td>Ayurveda</td>\n",
       "      <td>1.0</td>\n",
       "      <td>250.0</td>\n",
       "      <td>train</td>\n",
       "      <td>2.0</td>\n",
       "      <td>Bannerghatta Road</td>\n",
       "      <td>Bangalore</td>\n",
       "      <td>250-400</td>\n",
       "    </tr>\n",
       "    <tr>\n",
       "      <th>4</th>\n",
       "      <td>4.472136</td>\n",
       "      <td>100.0</td>\n",
       "      <td>Ayurveda</td>\n",
       "      <td>1.0</td>\n",
       "      <td>250.0</td>\n",
       "      <td>train</td>\n",
       "      <td>1.0</td>\n",
       "      <td>Keelkattalai</td>\n",
       "      <td>Chennai</td>\n",
       "      <td>250-400</td>\n",
       "    </tr>\n",
       "    <tr>\n",
       "      <th>...</th>\n",
       "      <td>...</td>\n",
       "      <td>...</td>\n",
       "      <td>...</td>\n",
       "      <td>...</td>\n",
       "      <td>...</td>\n",
       "      <td>...</td>\n",
       "      <td>...</td>\n",
       "      <td>...</td>\n",
       "      <td>...</td>\n",
       "      <td>...</td>\n",
       "    </tr>\n",
       "    <tr>\n",
       "      <th>7943</th>\n",
       "      <td>3.162278</td>\n",
       "      <td>-999.0</td>\n",
       "      <td>Ayurveda</td>\n",
       "      <td>0.0</td>\n",
       "      <td>0.0</td>\n",
       "      <td>test</td>\n",
       "      <td>2.0</td>\n",
       "      <td>Basavanagudi</td>\n",
       "      <td>Bangalore</td>\n",
       "      <td>0-100</td>\n",
       "    </tr>\n",
       "    <tr>\n",
       "      <th>7944</th>\n",
       "      <td>2.000000</td>\n",
       "      <td>-999.0</td>\n",
       "      <td>Dermatologists</td>\n",
       "      <td>0.0</td>\n",
       "      <td>0.0</td>\n",
       "      <td>test</td>\n",
       "      <td>3.0</td>\n",
       "      <td>Choolai</td>\n",
       "      <td>Chennai</td>\n",
       "      <td>0-100</td>\n",
       "    </tr>\n",
       "    <tr>\n",
       "      <th>7945</th>\n",
       "      <td>3.000000</td>\n",
       "      <td>-999.0</td>\n",
       "      <td>General Medicine</td>\n",
       "      <td>0.0</td>\n",
       "      <td>0.0</td>\n",
       "      <td>test</td>\n",
       "      <td>2.0</td>\n",
       "      <td>Porur</td>\n",
       "      <td>Chennai</td>\n",
       "      <td>0-100</td>\n",
       "    </tr>\n",
       "    <tr>\n",
       "      <th>7946</th>\n",
       "      <td>3.464102</td>\n",
       "      <td>98.0</td>\n",
       "      <td>Dentist</td>\n",
       "      <td>1.0</td>\n",
       "      <td>0.0</td>\n",
       "      <td>test</td>\n",
       "      <td>1.0</td>\n",
       "      <td>Arekere</td>\n",
       "      <td>Bangalore</td>\n",
       "      <td>0-100</td>\n",
       "    </tr>\n",
       "    <tr>\n",
       "      <th>7947</th>\n",
       "      <td>2.828427</td>\n",
       "      <td>-999.0</td>\n",
       "      <td>Dermatologists</td>\n",
       "      <td>1.0</td>\n",
       "      <td>0.0</td>\n",
       "      <td>test</td>\n",
       "      <td>3.0</td>\n",
       "      <td>Pallikaranai</td>\n",
       "      <td>Chennai</td>\n",
       "      <td>0-100</td>\n",
       "    </tr>\n",
       "  </tbody>\n",
       "</table>\n",
       "<p>7948 rows × 10 columns</p>\n",
       "</div>"
      ],
      "text/plain": [
       "      Experience  Rating           Profile  Miscellaneous_Info   Fees source  \\\n",
       "0       4.898979   100.0         Homeopath                 1.0  100.0  train   \n",
       "1       3.464102    98.0          Ayurveda                 1.0  350.0  train   \n",
       "2       3.000000  -999.0    ENT Specialist                 0.0  300.0  train   \n",
       "3       3.464102  -999.0          Ayurveda                 1.0  250.0  train   \n",
       "4       4.472136   100.0          Ayurveda                 1.0  250.0  train   \n",
       "...          ...     ...               ...                 ...    ...    ...   \n",
       "7943    3.162278  -999.0          Ayurveda                 0.0    0.0   test   \n",
       "7944    2.000000  -999.0    Dermatologists                 0.0    0.0   test   \n",
       "7945    3.000000  -999.0  General Medicine                 0.0    0.0   test   \n",
       "7946    3.464102    98.0           Dentist                 1.0    0.0   test   \n",
       "7947    2.828427  -999.0    Dermatologists                 1.0    0.0   test   \n",
       "\n",
       "      qualifications           Location       City Fee_category  \n",
       "0                2.0           Kakkanad  Ernakulam      100-250  \n",
       "1                2.0         Whitefield  Bangalore      250-400  \n",
       "2                2.0    Mathikere - BEL  Bangalore      250-400  \n",
       "3                2.0  Bannerghatta Road  Bangalore      250-400  \n",
       "4                1.0       Keelkattalai    Chennai      250-400  \n",
       "...              ...                ...        ...          ...  \n",
       "7943             2.0       Basavanagudi  Bangalore        0-100  \n",
       "7944             3.0            Choolai    Chennai        0-100  \n",
       "7945             2.0              Porur    Chennai        0-100  \n",
       "7946             1.0            Arekere  Bangalore        0-100  \n",
       "7947             3.0       Pallikaranai    Chennai        0-100  \n",
       "\n",
       "[7948 rows x 10 columns]"
      ]
     },
     "execution_count": 51,
     "metadata": {},
     "output_type": "execute_result"
    }
   ],
   "source": [
    "df"
   ]
  },
  {
   "cell_type": "code",
   "execution_count": 52,
   "metadata": {},
   "outputs": [],
   "source": [
    "train = df.loc[df['source']=='train']\n",
    "test = df.loc[df['source']=='test']"
   ]
  },
  {
   "cell_type": "code",
   "execution_count": 53,
   "metadata": {},
   "outputs": [],
   "source": [
    "train.drop('source',axis=1,inplace=True)\n",
    "test.drop(['source','Fees'],axis=1,inplace=True)"
   ]
  },
  {
   "cell_type": "code",
   "execution_count": 54,
   "metadata": {},
   "outputs": [
    {
     "data": {
      "text/html": [
       "<div>\n",
       "<style scoped>\n",
       "    .dataframe tbody tr th:only-of-type {\n",
       "        vertical-align: middle;\n",
       "    }\n",
       "\n",
       "    .dataframe tbody tr th {\n",
       "        vertical-align: top;\n",
       "    }\n",
       "\n",
       "    .dataframe thead th {\n",
       "        text-align: right;\n",
       "    }\n",
       "</style>\n",
       "<table border=\"1\" class=\"dataframe\">\n",
       "  <thead>\n",
       "    <tr style=\"text-align: right;\">\n",
       "      <th></th>\n",
       "      <th>Experience</th>\n",
       "      <th>Rating</th>\n",
       "      <th>Profile</th>\n",
       "      <th>Miscellaneous_Info</th>\n",
       "      <th>Fees</th>\n",
       "      <th>qualifications</th>\n",
       "      <th>Location</th>\n",
       "      <th>City</th>\n",
       "      <th>Fee_category</th>\n",
       "    </tr>\n",
       "  </thead>\n",
       "  <tbody>\n",
       "    <tr>\n",
       "      <th>0</th>\n",
       "      <td>4.898979</td>\n",
       "      <td>100.0</td>\n",
       "      <td>Homeopath</td>\n",
       "      <td>1.0</td>\n",
       "      <td>100.0</td>\n",
       "      <td>2.0</td>\n",
       "      <td>Kakkanad</td>\n",
       "      <td>Ernakulam</td>\n",
       "      <td>100-250</td>\n",
       "    </tr>\n",
       "    <tr>\n",
       "      <th>1</th>\n",
       "      <td>3.464102</td>\n",
       "      <td>98.0</td>\n",
       "      <td>Ayurveda</td>\n",
       "      <td>1.0</td>\n",
       "      <td>350.0</td>\n",
       "      <td>2.0</td>\n",
       "      <td>Whitefield</td>\n",
       "      <td>Bangalore</td>\n",
       "      <td>250-400</td>\n",
       "    </tr>\n",
       "    <tr>\n",
       "      <th>2</th>\n",
       "      <td>3.000000</td>\n",
       "      <td>-999.0</td>\n",
       "      <td>ENT Specialist</td>\n",
       "      <td>0.0</td>\n",
       "      <td>300.0</td>\n",
       "      <td>2.0</td>\n",
       "      <td>Mathikere - BEL</td>\n",
       "      <td>Bangalore</td>\n",
       "      <td>250-400</td>\n",
       "    </tr>\n",
       "    <tr>\n",
       "      <th>3</th>\n",
       "      <td>3.464102</td>\n",
       "      <td>-999.0</td>\n",
       "      <td>Ayurveda</td>\n",
       "      <td>1.0</td>\n",
       "      <td>250.0</td>\n",
       "      <td>2.0</td>\n",
       "      <td>Bannerghatta Road</td>\n",
       "      <td>Bangalore</td>\n",
       "      <td>250-400</td>\n",
       "    </tr>\n",
       "    <tr>\n",
       "      <th>4</th>\n",
       "      <td>4.472136</td>\n",
       "      <td>100.0</td>\n",
       "      <td>Ayurveda</td>\n",
       "      <td>1.0</td>\n",
       "      <td>250.0</td>\n",
       "      <td>1.0</td>\n",
       "      <td>Keelkattalai</td>\n",
       "      <td>Chennai</td>\n",
       "      <td>250-400</td>\n",
       "    </tr>\n",
       "    <tr>\n",
       "      <th>...</th>\n",
       "      <td>...</td>\n",
       "      <td>...</td>\n",
       "      <td>...</td>\n",
       "      <td>...</td>\n",
       "      <td>...</td>\n",
       "      <td>...</td>\n",
       "      <td>...</td>\n",
       "      <td>...</td>\n",
       "      <td>...</td>\n",
       "    </tr>\n",
       "    <tr>\n",
       "      <th>5956</th>\n",
       "      <td>4.358899</td>\n",
       "      <td>98.0</td>\n",
       "      <td>ENT Specialist</td>\n",
       "      <td>1.0</td>\n",
       "      <td>300.0</td>\n",
       "      <td>2.0</td>\n",
       "      <td>Basavanagudi</td>\n",
       "      <td>Bangalore</td>\n",
       "      <td>250-400</td>\n",
       "    </tr>\n",
       "    <tr>\n",
       "      <th>5957</th>\n",
       "      <td>5.744563</td>\n",
       "      <td>-999.0</td>\n",
       "      <td>General Medicine</td>\n",
       "      <td>0.0</td>\n",
       "      <td>100.0</td>\n",
       "      <td>1.0</td>\n",
       "      <td>Nungambakkam</td>\n",
       "      <td>Chennai</td>\n",
       "      <td>100-250</td>\n",
       "    </tr>\n",
       "    <tr>\n",
       "      <th>5958</th>\n",
       "      <td>6.403124</td>\n",
       "      <td>97.0</td>\n",
       "      <td>General Medicine</td>\n",
       "      <td>1.0</td>\n",
       "      <td>600.0</td>\n",
       "      <td>1.0</td>\n",
       "      <td>Greater Kailash Part 2</td>\n",
       "      <td>Delhi</td>\n",
       "      <td>600-800</td>\n",
       "    </tr>\n",
       "    <tr>\n",
       "      <th>5959</th>\n",
       "      <td>3.872983</td>\n",
       "      <td>90.0</td>\n",
       "      <td>General Medicine</td>\n",
       "      <td>1.0</td>\n",
       "      <td>100.0</td>\n",
       "      <td>2.0</td>\n",
       "      <td>Vileparle West</td>\n",
       "      <td>Mumbai</td>\n",
       "      <td>100-250</td>\n",
       "    </tr>\n",
       "    <tr>\n",
       "      <th>5960</th>\n",
       "      <td>4.123106</td>\n",
       "      <td>100.0</td>\n",
       "      <td>Dentist</td>\n",
       "      <td>1.0</td>\n",
       "      <td>200.0</td>\n",
       "      <td>2.0</td>\n",
       "      <td>Pitampura</td>\n",
       "      <td>Delhi</td>\n",
       "      <td>100-250</td>\n",
       "    </tr>\n",
       "  </tbody>\n",
       "</table>\n",
       "<p>5961 rows × 9 columns</p>\n",
       "</div>"
      ],
      "text/plain": [
       "      Experience  Rating           Profile  Miscellaneous_Info   Fees  \\\n",
       "0       4.898979   100.0         Homeopath                 1.0  100.0   \n",
       "1       3.464102    98.0          Ayurveda                 1.0  350.0   \n",
       "2       3.000000  -999.0    ENT Specialist                 0.0  300.0   \n",
       "3       3.464102  -999.0          Ayurveda                 1.0  250.0   \n",
       "4       4.472136   100.0          Ayurveda                 1.0  250.0   \n",
       "...          ...     ...               ...                 ...    ...   \n",
       "5956    4.358899    98.0    ENT Specialist                 1.0  300.0   \n",
       "5957    5.744563  -999.0  General Medicine                 0.0  100.0   \n",
       "5958    6.403124    97.0  General Medicine                 1.0  600.0   \n",
       "5959    3.872983    90.0  General Medicine                 1.0  100.0   \n",
       "5960    4.123106   100.0           Dentist                 1.0  200.0   \n",
       "\n",
       "      qualifications                Location       City Fee_category  \n",
       "0                2.0                Kakkanad  Ernakulam      100-250  \n",
       "1                2.0              Whitefield  Bangalore      250-400  \n",
       "2                2.0         Mathikere - BEL  Bangalore      250-400  \n",
       "3                2.0       Bannerghatta Road  Bangalore      250-400  \n",
       "4                1.0            Keelkattalai    Chennai      250-400  \n",
       "...              ...                     ...        ...          ...  \n",
       "5956             2.0            Basavanagudi  Bangalore      250-400  \n",
       "5957             1.0            Nungambakkam    Chennai      100-250  \n",
       "5958             1.0  Greater Kailash Part 2      Delhi      600-800  \n",
       "5959             2.0          Vileparle West     Mumbai      100-250  \n",
       "5960             2.0               Pitampura      Delhi      100-250  \n",
       "\n",
       "[5961 rows x 9 columns]"
      ]
     },
     "execution_count": 54,
     "metadata": {},
     "output_type": "execute_result"
    }
   ],
   "source": [
    "train"
   ]
  },
  {
   "cell_type": "code",
   "execution_count": 55,
   "metadata": {},
   "outputs": [
    {
     "data": {
      "text/html": [
       "<div>\n",
       "<style scoped>\n",
       "    .dataframe tbody tr th:only-of-type {\n",
       "        vertical-align: middle;\n",
       "    }\n",
       "\n",
       "    .dataframe tbody tr th {\n",
       "        vertical-align: top;\n",
       "    }\n",
       "\n",
       "    .dataframe thead th {\n",
       "        text-align: right;\n",
       "    }\n",
       "</style>\n",
       "<table border=\"1\" class=\"dataframe\">\n",
       "  <thead>\n",
       "    <tr style=\"text-align: right;\">\n",
       "      <th></th>\n",
       "      <th>Experience</th>\n",
       "      <th>Rating</th>\n",
       "      <th>Profile</th>\n",
       "      <th>Miscellaneous_Info</th>\n",
       "      <th>qualifications</th>\n",
       "      <th>Location</th>\n",
       "      <th>City</th>\n",
       "      <th>Fee_category</th>\n",
       "    </tr>\n",
       "  </thead>\n",
       "  <tbody>\n",
       "    <tr>\n",
       "      <th>5961</th>\n",
       "      <td>5.916080</td>\n",
       "      <td>-999.0</td>\n",
       "      <td>General Medicine</td>\n",
       "      <td>0.0</td>\n",
       "      <td>1.0</td>\n",
       "      <td>Ghatkopar East</td>\n",
       "      <td>Mumbai</td>\n",
       "      <td>0-100</td>\n",
       "    </tr>\n",
       "    <tr>\n",
       "      <th>5962</th>\n",
       "      <td>5.567764</td>\n",
       "      <td>-999.0</td>\n",
       "      <td>ENT Specialist</td>\n",
       "      <td>0.0</td>\n",
       "      <td>2.0</td>\n",
       "      <td>West Marredpally</td>\n",
       "      <td>Hyderabad</td>\n",
       "      <td>0-100</td>\n",
       "    </tr>\n",
       "    <tr>\n",
       "      <th>5963</th>\n",
       "      <td>6.324555</td>\n",
       "      <td>70.0</td>\n",
       "      <td>Dermatologists</td>\n",
       "      <td>1.0</td>\n",
       "      <td>2.0</td>\n",
       "      <td>KK Nagar</td>\n",
       "      <td>Chennai</td>\n",
       "      <td>0-100</td>\n",
       "    </tr>\n",
       "    <tr>\n",
       "      <th>5964</th>\n",
       "      <td>0.000000</td>\n",
       "      <td>-999.0</td>\n",
       "      <td>Ayurveda</td>\n",
       "      <td>0.0</td>\n",
       "      <td>1.0</td>\n",
       "      <td>New Ashok Nagar</td>\n",
       "      <td>Delhi</td>\n",
       "      <td>0-100</td>\n",
       "    </tr>\n",
       "    <tr>\n",
       "      <th>5965</th>\n",
       "      <td>4.000000</td>\n",
       "      <td>100.0</td>\n",
       "      <td>Dentist</td>\n",
       "      <td>1.0</td>\n",
       "      <td>2.0</td>\n",
       "      <td>Kanakpura Road</td>\n",
       "      <td>Bangalore</td>\n",
       "      <td>0-100</td>\n",
       "    </tr>\n",
       "    <tr>\n",
       "      <th>...</th>\n",
       "      <td>...</td>\n",
       "      <td>...</td>\n",
       "      <td>...</td>\n",
       "      <td>...</td>\n",
       "      <td>...</td>\n",
       "      <td>...</td>\n",
       "      <td>...</td>\n",
       "      <td>...</td>\n",
       "    </tr>\n",
       "    <tr>\n",
       "      <th>7943</th>\n",
       "      <td>3.162278</td>\n",
       "      <td>-999.0</td>\n",
       "      <td>Ayurveda</td>\n",
       "      <td>0.0</td>\n",
       "      <td>2.0</td>\n",
       "      <td>Basavanagudi</td>\n",
       "      <td>Bangalore</td>\n",
       "      <td>0-100</td>\n",
       "    </tr>\n",
       "    <tr>\n",
       "      <th>7944</th>\n",
       "      <td>2.000000</td>\n",
       "      <td>-999.0</td>\n",
       "      <td>Dermatologists</td>\n",
       "      <td>0.0</td>\n",
       "      <td>3.0</td>\n",
       "      <td>Choolai</td>\n",
       "      <td>Chennai</td>\n",
       "      <td>0-100</td>\n",
       "    </tr>\n",
       "    <tr>\n",
       "      <th>7945</th>\n",
       "      <td>3.000000</td>\n",
       "      <td>-999.0</td>\n",
       "      <td>General Medicine</td>\n",
       "      <td>0.0</td>\n",
       "      <td>2.0</td>\n",
       "      <td>Porur</td>\n",
       "      <td>Chennai</td>\n",
       "      <td>0-100</td>\n",
       "    </tr>\n",
       "    <tr>\n",
       "      <th>7946</th>\n",
       "      <td>3.464102</td>\n",
       "      <td>98.0</td>\n",
       "      <td>Dentist</td>\n",
       "      <td>1.0</td>\n",
       "      <td>1.0</td>\n",
       "      <td>Arekere</td>\n",
       "      <td>Bangalore</td>\n",
       "      <td>0-100</td>\n",
       "    </tr>\n",
       "    <tr>\n",
       "      <th>7947</th>\n",
       "      <td>2.828427</td>\n",
       "      <td>-999.0</td>\n",
       "      <td>Dermatologists</td>\n",
       "      <td>1.0</td>\n",
       "      <td>3.0</td>\n",
       "      <td>Pallikaranai</td>\n",
       "      <td>Chennai</td>\n",
       "      <td>0-100</td>\n",
       "    </tr>\n",
       "  </tbody>\n",
       "</table>\n",
       "<p>1987 rows × 8 columns</p>\n",
       "</div>"
      ],
      "text/plain": [
       "      Experience  Rating           Profile  Miscellaneous_Info  \\\n",
       "5961    5.916080  -999.0  General Medicine                 0.0   \n",
       "5962    5.567764  -999.0    ENT Specialist                 0.0   \n",
       "5963    6.324555    70.0    Dermatologists                 1.0   \n",
       "5964    0.000000  -999.0          Ayurveda                 0.0   \n",
       "5965    4.000000   100.0           Dentist                 1.0   \n",
       "...          ...     ...               ...                 ...   \n",
       "7943    3.162278  -999.0          Ayurveda                 0.0   \n",
       "7944    2.000000  -999.0    Dermatologists                 0.0   \n",
       "7945    3.000000  -999.0  General Medicine                 0.0   \n",
       "7946    3.464102    98.0           Dentist                 1.0   \n",
       "7947    2.828427  -999.0    Dermatologists                 1.0   \n",
       "\n",
       "      qualifications          Location       City Fee_category  \n",
       "5961             1.0    Ghatkopar East     Mumbai        0-100  \n",
       "5962             2.0  West Marredpally  Hyderabad        0-100  \n",
       "5963             2.0          KK Nagar    Chennai        0-100  \n",
       "5964             1.0   New Ashok Nagar      Delhi        0-100  \n",
       "5965             2.0    Kanakpura Road  Bangalore        0-100  \n",
       "...              ...               ...        ...          ...  \n",
       "7943             2.0      Basavanagudi  Bangalore        0-100  \n",
       "7944             3.0           Choolai    Chennai        0-100  \n",
       "7945             2.0             Porur    Chennai        0-100  \n",
       "7946             1.0           Arekere  Bangalore        0-100  \n",
       "7947             3.0      Pallikaranai    Chennai        0-100  \n",
       "\n",
       "[1987 rows x 8 columns]"
      ]
     },
     "execution_count": 55,
     "metadata": {},
     "output_type": "execute_result"
    }
   ],
   "source": [
    "test"
   ]
  },
  {
   "cell_type": "code",
   "execution_count": null,
   "metadata": {},
   "outputs": [],
   "source": []
  },
  {
   "cell_type": "code",
   "execution_count": 56,
   "metadata": {},
   "outputs": [],
   "source": [
    "from sklearn.preprocessing import OrdinalEncoder\n",
    "oe=OrdinalEncoder()"
   ]
  },
  {
   "cell_type": "code",
   "execution_count": 57,
   "metadata": {},
   "outputs": [],
   "source": [
    "for i in train.columns:\n",
    "    if train[i].dtypes=='O':\n",
    "        train[i]=oe.fit_transform(train[i].values.reshape(-1,1))"
   ]
  },
  {
   "cell_type": "code",
   "execution_count": 58,
   "metadata": {},
   "outputs": [
    {
     "data": {
      "text/html": [
       "<div>\n",
       "<style scoped>\n",
       "    .dataframe tbody tr th:only-of-type {\n",
       "        vertical-align: middle;\n",
       "    }\n",
       "\n",
       "    .dataframe tbody tr th {\n",
       "        vertical-align: top;\n",
       "    }\n",
       "\n",
       "    .dataframe thead th {\n",
       "        text-align: right;\n",
       "    }\n",
       "</style>\n",
       "<table border=\"1\" class=\"dataframe\">\n",
       "  <thead>\n",
       "    <tr style=\"text-align: right;\">\n",
       "      <th></th>\n",
       "      <th>Experience</th>\n",
       "      <th>Rating</th>\n",
       "      <th>Profile</th>\n",
       "      <th>Miscellaneous_Info</th>\n",
       "      <th>Fees</th>\n",
       "      <th>qualifications</th>\n",
       "      <th>Location</th>\n",
       "      <th>City</th>\n",
       "      <th>Fee_category</th>\n",
       "    </tr>\n",
       "  </thead>\n",
       "  <tbody>\n",
       "    <tr>\n",
       "      <th>0</th>\n",
       "      <td>4.898979</td>\n",
       "      <td>100.0</td>\n",
       "      <td>5.0</td>\n",
       "      <td>1.0</td>\n",
       "      <td>100.0</td>\n",
       "      <td>2.0</td>\n",
       "      <td>296.0</td>\n",
       "      <td>4.0</td>\n",
       "      <td>1.0</td>\n",
       "    </tr>\n",
       "    <tr>\n",
       "      <th>1</th>\n",
       "      <td>3.464102</td>\n",
       "      <td>98.0</td>\n",
       "      <td>0.0</td>\n",
       "      <td>1.0</td>\n",
       "      <td>350.0</td>\n",
       "      <td>2.0</td>\n",
       "      <td>856.0</td>\n",
       "      <td>0.0</td>\n",
       "      <td>2.0</td>\n",
       "    </tr>\n",
       "    <tr>\n",
       "      <th>2</th>\n",
       "      <td>3.000000</td>\n",
       "      <td>-999.0</td>\n",
       "      <td>3.0</td>\n",
       "      <td>0.0</td>\n",
       "      <td>300.0</td>\n",
       "      <td>2.0</td>\n",
       "      <td>452.0</td>\n",
       "      <td>0.0</td>\n",
       "      <td>2.0</td>\n",
       "    </tr>\n",
       "    <tr>\n",
       "      <th>3</th>\n",
       "      <td>3.464102</td>\n",
       "      <td>-999.0</td>\n",
       "      <td>0.0</td>\n",
       "      <td>1.0</td>\n",
       "      <td>250.0</td>\n",
       "      <td>2.0</td>\n",
       "      <td>68.0</td>\n",
       "      <td>0.0</td>\n",
       "      <td>2.0</td>\n",
       "    </tr>\n",
       "    <tr>\n",
       "      <th>4</th>\n",
       "      <td>4.472136</td>\n",
       "      <td>100.0</td>\n",
       "      <td>0.0</td>\n",
       "      <td>1.0</td>\n",
       "      <td>250.0</td>\n",
       "      <td>1.0</td>\n",
       "      <td>335.0</td>\n",
       "      <td>1.0</td>\n",
       "      <td>2.0</td>\n",
       "    </tr>\n",
       "    <tr>\n",
       "      <th>...</th>\n",
       "      <td>...</td>\n",
       "      <td>...</td>\n",
       "      <td>...</td>\n",
       "      <td>...</td>\n",
       "      <td>...</td>\n",
       "      <td>...</td>\n",
       "      <td>...</td>\n",
       "      <td>...</td>\n",
       "      <td>...</td>\n",
       "    </tr>\n",
       "    <tr>\n",
       "      <th>5956</th>\n",
       "      <td>4.358899</td>\n",
       "      <td>98.0</td>\n",
       "      <td>3.0</td>\n",
       "      <td>1.0</td>\n",
       "      <td>300.0</td>\n",
       "      <td>2.0</td>\n",
       "      <td>70.0</td>\n",
       "      <td>0.0</td>\n",
       "      <td>2.0</td>\n",
       "    </tr>\n",
       "    <tr>\n",
       "      <th>5957</th>\n",
       "      <td>5.744563</td>\n",
       "      <td>-999.0</td>\n",
       "      <td>4.0</td>\n",
       "      <td>0.0</td>\n",
       "      <td>100.0</td>\n",
       "      <td>1.0</td>\n",
       "      <td>535.0</td>\n",
       "      <td>1.0</td>\n",
       "      <td>1.0</td>\n",
       "    </tr>\n",
       "    <tr>\n",
       "      <th>5958</th>\n",
       "      <td>6.403124</td>\n",
       "      <td>97.0</td>\n",
       "      <td>4.0</td>\n",
       "      <td>1.0</td>\n",
       "      <td>600.0</td>\n",
       "      <td>1.0</td>\n",
       "      <td>215.0</td>\n",
       "      <td>3.0</td>\n",
       "      <td>4.0</td>\n",
       "    </tr>\n",
       "    <tr>\n",
       "      <th>5959</th>\n",
       "      <td>3.872983</td>\n",
       "      <td>90.0</td>\n",
       "      <td>4.0</td>\n",
       "      <td>1.0</td>\n",
       "      <td>100.0</td>\n",
       "      <td>2.0</td>\n",
       "      <td>841.0</td>\n",
       "      <td>6.0</td>\n",
       "      <td>1.0</td>\n",
       "    </tr>\n",
       "    <tr>\n",
       "      <th>5960</th>\n",
       "      <td>4.123106</td>\n",
       "      <td>100.0</td>\n",
       "      <td>1.0</td>\n",
       "      <td>1.0</td>\n",
       "      <td>200.0</td>\n",
       "      <td>2.0</td>\n",
       "      <td>597.0</td>\n",
       "      <td>3.0</td>\n",
       "      <td>1.0</td>\n",
       "    </tr>\n",
       "  </tbody>\n",
       "</table>\n",
       "<p>5961 rows × 9 columns</p>\n",
       "</div>"
      ],
      "text/plain": [
       "      Experience  Rating  Profile  Miscellaneous_Info   Fees  qualifications  \\\n",
       "0       4.898979   100.0      5.0                 1.0  100.0             2.0   \n",
       "1       3.464102    98.0      0.0                 1.0  350.0             2.0   \n",
       "2       3.000000  -999.0      3.0                 0.0  300.0             2.0   \n",
       "3       3.464102  -999.0      0.0                 1.0  250.0             2.0   \n",
       "4       4.472136   100.0      0.0                 1.0  250.0             1.0   \n",
       "...          ...     ...      ...                 ...    ...             ...   \n",
       "5956    4.358899    98.0      3.0                 1.0  300.0             2.0   \n",
       "5957    5.744563  -999.0      4.0                 0.0  100.0             1.0   \n",
       "5958    6.403124    97.0      4.0                 1.0  600.0             1.0   \n",
       "5959    3.872983    90.0      4.0                 1.0  100.0             2.0   \n",
       "5960    4.123106   100.0      1.0                 1.0  200.0             2.0   \n",
       "\n",
       "      Location  City  Fee_category  \n",
       "0        296.0   4.0           1.0  \n",
       "1        856.0   0.0           2.0  \n",
       "2        452.0   0.0           2.0  \n",
       "3         68.0   0.0           2.0  \n",
       "4        335.0   1.0           2.0  \n",
       "...        ...   ...           ...  \n",
       "5956      70.0   0.0           2.0  \n",
       "5957     535.0   1.0           1.0  \n",
       "5958     215.0   3.0           4.0  \n",
       "5959     841.0   6.0           1.0  \n",
       "5960     597.0   3.0           1.0  \n",
       "\n",
       "[5961 rows x 9 columns]"
      ]
     },
     "execution_count": 58,
     "metadata": {},
     "output_type": "execute_result"
    }
   ],
   "source": [
    "train"
   ]
  },
  {
   "cell_type": "code",
   "execution_count": 59,
   "metadata": {},
   "outputs": [],
   "source": [
    "from sklearn.preprocessing import MinMaxScaler\n",
    "mms=MinMaxScaler()"
   ]
  },
  {
   "cell_type": "code",
   "execution_count": 60,
   "metadata": {},
   "outputs": [],
   "source": [
    "for i in train.columns:\n",
    "    if i=='Fees':\n",
    "        pass\n",
    "    else:\n",
    "        train[i]=mms.fit_transform(train[i].values.reshape(-1,1))"
   ]
  },
  {
   "cell_type": "code",
   "execution_count": 61,
   "metadata": {},
   "outputs": [
    {
     "data": {
      "text/html": [
       "<div>\n",
       "<style scoped>\n",
       "    .dataframe tbody tr th:only-of-type {\n",
       "        vertical-align: middle;\n",
       "    }\n",
       "\n",
       "    .dataframe tbody tr th {\n",
       "        vertical-align: top;\n",
       "    }\n",
       "\n",
       "    .dataframe thead th {\n",
       "        text-align: right;\n",
       "    }\n",
       "</style>\n",
       "<table border=\"1\" class=\"dataframe\">\n",
       "  <thead>\n",
       "    <tr style=\"text-align: right;\">\n",
       "      <th></th>\n",
       "      <th>Experience</th>\n",
       "      <th>Rating</th>\n",
       "      <th>Profile</th>\n",
       "      <th>Miscellaneous_Info</th>\n",
       "      <th>Fees</th>\n",
       "      <th>qualifications</th>\n",
       "      <th>Location</th>\n",
       "      <th>City</th>\n",
       "      <th>Fee_category</th>\n",
       "    </tr>\n",
       "  </thead>\n",
       "  <tbody>\n",
       "    <tr>\n",
       "      <th>0</th>\n",
       "      <td>0.603023</td>\n",
       "      <td>1.000000</td>\n",
       "      <td>1.0</td>\n",
       "      <td>1.0</td>\n",
       "      <td>100.0</td>\n",
       "      <td>0.111111</td>\n",
       "      <td>0.342197</td>\n",
       "      <td>0.4</td>\n",
       "      <td>0.2</td>\n",
       "    </tr>\n",
       "    <tr>\n",
       "      <th>1</th>\n",
       "      <td>0.426401</td>\n",
       "      <td>0.998180</td>\n",
       "      <td>0.0</td>\n",
       "      <td>1.0</td>\n",
       "      <td>350.0</td>\n",
       "      <td>0.111111</td>\n",
       "      <td>0.989595</td>\n",
       "      <td>0.0</td>\n",
       "      <td>0.4</td>\n",
       "    </tr>\n",
       "    <tr>\n",
       "      <th>2</th>\n",
       "      <td>0.369274</td>\n",
       "      <td>0.000000</td>\n",
       "      <td>0.6</td>\n",
       "      <td>0.0</td>\n",
       "      <td>300.0</td>\n",
       "      <td>0.111111</td>\n",
       "      <td>0.522543</td>\n",
       "      <td>0.0</td>\n",
       "      <td>0.4</td>\n",
       "    </tr>\n",
       "    <tr>\n",
       "      <th>3</th>\n",
       "      <td>0.426401</td>\n",
       "      <td>0.000000</td>\n",
       "      <td>0.0</td>\n",
       "      <td>1.0</td>\n",
       "      <td>250.0</td>\n",
       "      <td>0.111111</td>\n",
       "      <td>0.078613</td>\n",
       "      <td>0.0</td>\n",
       "      <td>0.4</td>\n",
       "    </tr>\n",
       "    <tr>\n",
       "      <th>4</th>\n",
       "      <td>0.550482</td>\n",
       "      <td>1.000000</td>\n",
       "      <td>0.0</td>\n",
       "      <td>1.0</td>\n",
       "      <td>250.0</td>\n",
       "      <td>0.000000</td>\n",
       "      <td>0.387283</td>\n",
       "      <td>0.1</td>\n",
       "      <td>0.4</td>\n",
       "    </tr>\n",
       "    <tr>\n",
       "      <th>...</th>\n",
       "      <td>...</td>\n",
       "      <td>...</td>\n",
       "      <td>...</td>\n",
       "      <td>...</td>\n",
       "      <td>...</td>\n",
       "      <td>...</td>\n",
       "      <td>...</td>\n",
       "      <td>...</td>\n",
       "      <td>...</td>\n",
       "    </tr>\n",
       "    <tr>\n",
       "      <th>5956</th>\n",
       "      <td>0.536543</td>\n",
       "      <td>0.998180</td>\n",
       "      <td>0.6</td>\n",
       "      <td>1.0</td>\n",
       "      <td>300.0</td>\n",
       "      <td>0.111111</td>\n",
       "      <td>0.080925</td>\n",
       "      <td>0.0</td>\n",
       "      <td>0.4</td>\n",
       "    </tr>\n",
       "    <tr>\n",
       "      <th>5957</th>\n",
       "      <td>0.707107</td>\n",
       "      <td>0.000000</td>\n",
       "      <td>0.8</td>\n",
       "      <td>0.0</td>\n",
       "      <td>100.0</td>\n",
       "      <td>0.000000</td>\n",
       "      <td>0.618497</td>\n",
       "      <td>0.1</td>\n",
       "      <td>0.2</td>\n",
       "    </tr>\n",
       "    <tr>\n",
       "      <th>5958</th>\n",
       "      <td>0.788170</td>\n",
       "      <td>0.997270</td>\n",
       "      <td>0.8</td>\n",
       "      <td>1.0</td>\n",
       "      <td>600.0</td>\n",
       "      <td>0.000000</td>\n",
       "      <td>0.248555</td>\n",
       "      <td>0.3</td>\n",
       "      <td>0.8</td>\n",
       "    </tr>\n",
       "    <tr>\n",
       "      <th>5959</th>\n",
       "      <td>0.476731</td>\n",
       "      <td>0.990901</td>\n",
       "      <td>0.8</td>\n",
       "      <td>1.0</td>\n",
       "      <td>100.0</td>\n",
       "      <td>0.111111</td>\n",
       "      <td>0.972254</td>\n",
       "      <td>0.6</td>\n",
       "      <td>0.2</td>\n",
       "    </tr>\n",
       "    <tr>\n",
       "      <th>5960</th>\n",
       "      <td>0.507519</td>\n",
       "      <td>1.000000</td>\n",
       "      <td>0.2</td>\n",
       "      <td>1.0</td>\n",
       "      <td>200.0</td>\n",
       "      <td>0.111111</td>\n",
       "      <td>0.690173</td>\n",
       "      <td>0.3</td>\n",
       "      <td>0.2</td>\n",
       "    </tr>\n",
       "  </tbody>\n",
       "</table>\n",
       "<p>5961 rows × 9 columns</p>\n",
       "</div>"
      ],
      "text/plain": [
       "      Experience    Rating  Profile  Miscellaneous_Info   Fees  \\\n",
       "0       0.603023  1.000000      1.0                 1.0  100.0   \n",
       "1       0.426401  0.998180      0.0                 1.0  350.0   \n",
       "2       0.369274  0.000000      0.6                 0.0  300.0   \n",
       "3       0.426401  0.000000      0.0                 1.0  250.0   \n",
       "4       0.550482  1.000000      0.0                 1.0  250.0   \n",
       "...          ...       ...      ...                 ...    ...   \n",
       "5956    0.536543  0.998180      0.6                 1.0  300.0   \n",
       "5957    0.707107  0.000000      0.8                 0.0  100.0   \n",
       "5958    0.788170  0.997270      0.8                 1.0  600.0   \n",
       "5959    0.476731  0.990901      0.8                 1.0  100.0   \n",
       "5960    0.507519  1.000000      0.2                 1.0  200.0   \n",
       "\n",
       "      qualifications  Location  City  Fee_category  \n",
       "0           0.111111  0.342197   0.4           0.2  \n",
       "1           0.111111  0.989595   0.0           0.4  \n",
       "2           0.111111  0.522543   0.0           0.4  \n",
       "3           0.111111  0.078613   0.0           0.4  \n",
       "4           0.000000  0.387283   0.1           0.4  \n",
       "...              ...       ...   ...           ...  \n",
       "5956        0.111111  0.080925   0.0           0.4  \n",
       "5957        0.000000  0.618497   0.1           0.2  \n",
       "5958        0.000000  0.248555   0.3           0.8  \n",
       "5959        0.111111  0.972254   0.6           0.2  \n",
       "5960        0.111111  0.690173   0.3           0.2  \n",
       "\n",
       "[5961 rows x 9 columns]"
      ]
     },
     "execution_count": 61,
     "metadata": {},
     "output_type": "execute_result"
    }
   ],
   "source": [
    "train"
   ]
  },
  {
   "cell_type": "code",
   "execution_count": 63,
   "metadata": {},
   "outputs": [
    {
     "data": {
      "text/html": [
       "<div>\n",
       "<style scoped>\n",
       "    .dataframe tbody tr th:only-of-type {\n",
       "        vertical-align: middle;\n",
       "    }\n",
       "\n",
       "    .dataframe tbody tr th {\n",
       "        vertical-align: top;\n",
       "    }\n",
       "\n",
       "    .dataframe thead th {\n",
       "        text-align: right;\n",
       "    }\n",
       "</style>\n",
       "<table border=\"1\" class=\"dataframe\">\n",
       "  <thead>\n",
       "    <tr style=\"text-align: right;\">\n",
       "      <th></th>\n",
       "      <th>Experience</th>\n",
       "      <th>Rating</th>\n",
       "      <th>Profile</th>\n",
       "      <th>Miscellaneous_Info</th>\n",
       "      <th>Fees</th>\n",
       "      <th>qualifications</th>\n",
       "      <th>Location</th>\n",
       "      <th>City</th>\n",
       "      <th>Fee_category</th>\n",
       "    </tr>\n",
       "  </thead>\n",
       "  <tbody>\n",
       "    <tr>\n",
       "      <th>count</th>\n",
       "      <td>5961.000000</td>\n",
       "      <td>5961.000000</td>\n",
       "      <td>5961.000000</td>\n",
       "      <td>5961.000000</td>\n",
       "      <td>5961.000000</td>\n",
       "      <td>5961.000000</td>\n",
       "      <td>5961.000000</td>\n",
       "      <td>5961.000000</td>\n",
       "      <td>5961.000000</td>\n",
       "    </tr>\n",
       "    <tr>\n",
       "      <th>mean</th>\n",
       "      <td>0.484063</td>\n",
       "      <td>0.443892</td>\n",
       "      <td>0.488374</td>\n",
       "      <td>0.560476</td>\n",
       "      <td>307.944640</td>\n",
       "      <td>0.110403</td>\n",
       "      <td>0.476969</td>\n",
       "      <td>0.309914</td>\n",
       "      <td>0.401912</td>\n",
       "    </tr>\n",
       "    <tr>\n",
       "      <th>std</th>\n",
       "      <td>0.166941</td>\n",
       "      <td>0.494724</td>\n",
       "      <td>0.331603</td>\n",
       "      <td>0.496371</td>\n",
       "      <td>190.920373</td>\n",
       "      <td>0.107142</td>\n",
       "      <td>0.296207</td>\n",
       "      <td>0.235144</td>\n",
       "      <td>0.226150</td>\n",
       "    </tr>\n",
       "    <tr>\n",
       "      <th>min</th>\n",
       "      <td>0.000000</td>\n",
       "      <td>0.000000</td>\n",
       "      <td>0.000000</td>\n",
       "      <td>0.000000</td>\n",
       "      <td>5.000000</td>\n",
       "      <td>0.000000</td>\n",
       "      <td>0.000000</td>\n",
       "      <td>0.000000</td>\n",
       "      <td>0.000000</td>\n",
       "    </tr>\n",
       "    <tr>\n",
       "      <th>25%</th>\n",
       "      <td>0.369274</td>\n",
       "      <td>0.000000</td>\n",
       "      <td>0.200000</td>\n",
       "      <td>0.000000</td>\n",
       "      <td>150.000000</td>\n",
       "      <td>0.000000</td>\n",
       "      <td>0.225434</td>\n",
       "      <td>0.100000</td>\n",
       "      <td>0.200000</td>\n",
       "    </tr>\n",
       "    <tr>\n",
       "      <th>50%</th>\n",
       "      <td>0.460566</td>\n",
       "      <td>0.000000</td>\n",
       "      <td>0.400000</td>\n",
       "      <td>1.000000</td>\n",
       "      <td>300.000000</td>\n",
       "      <td>0.111111</td>\n",
       "      <td>0.472832</td>\n",
       "      <td>0.300000</td>\n",
       "      <td>0.400000</td>\n",
       "    </tr>\n",
       "    <tr>\n",
       "      <th>75%</th>\n",
       "      <td>0.590326</td>\n",
       "      <td>0.996360</td>\n",
       "      <td>0.800000</td>\n",
       "      <td>1.000000</td>\n",
       "      <td>500.000000</td>\n",
       "      <td>0.111111</td>\n",
       "      <td>0.723699</td>\n",
       "      <td>0.500000</td>\n",
       "      <td>0.600000</td>\n",
       "    </tr>\n",
       "    <tr>\n",
       "      <th>max</th>\n",
       "      <td>1.000000</td>\n",
       "      <td>1.000000</td>\n",
       "      <td>1.000000</td>\n",
       "      <td>1.000000</td>\n",
       "      <td>950.000000</td>\n",
       "      <td>1.000000</td>\n",
       "      <td>1.000000</td>\n",
       "      <td>1.000000</td>\n",
       "      <td>1.000000</td>\n",
       "    </tr>\n",
       "  </tbody>\n",
       "</table>\n",
       "</div>"
      ],
      "text/plain": [
       "        Experience       Rating      Profile  Miscellaneous_Info         Fees  \\\n",
       "count  5961.000000  5961.000000  5961.000000         5961.000000  5961.000000   \n",
       "mean      0.484063     0.443892     0.488374            0.560476   307.944640   \n",
       "std       0.166941     0.494724     0.331603            0.496371   190.920373   \n",
       "min       0.000000     0.000000     0.000000            0.000000     5.000000   \n",
       "25%       0.369274     0.000000     0.200000            0.000000   150.000000   \n",
       "50%       0.460566     0.000000     0.400000            1.000000   300.000000   \n",
       "75%       0.590326     0.996360     0.800000            1.000000   500.000000   \n",
       "max       1.000000     1.000000     1.000000            1.000000   950.000000   \n",
       "\n",
       "       qualifications     Location         City  Fee_category  \n",
       "count     5961.000000  5961.000000  5961.000000   5961.000000  \n",
       "mean         0.110403     0.476969     0.309914      0.401912  \n",
       "std          0.107142     0.296207     0.235144      0.226150  \n",
       "min          0.000000     0.000000     0.000000      0.000000  \n",
       "25%          0.000000     0.225434     0.100000      0.200000  \n",
       "50%          0.111111     0.472832     0.300000      0.400000  \n",
       "75%          0.111111     0.723699     0.500000      0.600000  \n",
       "max          1.000000     1.000000     1.000000      1.000000  "
      ]
     },
     "execution_count": 63,
     "metadata": {},
     "output_type": "execute_result"
    }
   ],
   "source": [
    "train.describe()"
   ]
  },
  {
   "cell_type": "code",
   "execution_count": 64,
   "metadata": {},
   "outputs": [
    {
     "data": {
      "text/plain": [
       "<AxesSubplot:>"
      ]
     },
     "execution_count": 64,
     "metadata": {},
     "output_type": "execute_result"
    },
    {
     "data": {
      "image/png": "[encoded data removed]",
      "text/plain": [
       "<Figure size 1584x504 with 2 Axes>"
      ]
     },
     "metadata": {
      "needs_background": "light"
     },
     "output_type": "display_data"
    }
   ],
   "source": [
    "plt.figure(figsize=(22,7))\n",
    "sb.heatmap(train.describe(),annot=True,linewidths=0.1,linecolor=\"purple\",fmt=\"0.2f\")"
   ]
  },
  {
   "cell_type": "code",
   "execution_count": 65,
   "metadata": {},
   "outputs": [
    {
     "data": {
      "text/html": [
       "<div>\n",
       "<style scoped>\n",
       "    .dataframe tbody tr th:only-of-type {\n",
       "        vertical-align: middle;\n",
       "    }\n",
       "\n",
       "    .dataframe tbody tr th {\n",
       "        vertical-align: top;\n",
       "    }\n",
       "\n",
       "    .dataframe thead th {\n",
       "        text-align: right;\n",
       "    }\n",
       "</style>\n",
       "<table border=\"1\" class=\"dataframe\">\n",
       "  <thead>\n",
       "    <tr style=\"text-align: right;\">\n",
       "      <th></th>\n",
       "      <th>Experience</th>\n",
       "      <th>Rating</th>\n",
       "      <th>Profile</th>\n",
       "      <th>Miscellaneous_Info</th>\n",
       "      <th>Fees</th>\n",
       "      <th>qualifications</th>\n",
       "      <th>Location</th>\n",
       "      <th>City</th>\n",
       "      <th>Fee_category</th>\n",
       "    </tr>\n",
       "  </thead>\n",
       "  <tbody>\n",
       "    <tr>\n",
       "      <th>Experience</th>\n",
       "      <td>1.000000</td>\n",
       "      <td>0.028617</td>\n",
       "      <td>0.189289</td>\n",
       "      <td>-0.076278</td>\n",
       "      <td>0.034670</td>\n",
       "      <td>0.062010</td>\n",
       "      <td>-0.007309</td>\n",
       "      <td>-0.004461</td>\n",
       "      <td>0.042167</td>\n",
       "    </tr>\n",
       "    <tr>\n",
       "      <th>Rating</th>\n",
       "      <td>0.028617</td>\n",
       "      <td>1.000000</td>\n",
       "      <td>-0.115863</td>\n",
       "      <td>0.738919</td>\n",
       "      <td>0.163389</td>\n",
       "      <td>0.234079</td>\n",
       "      <td>-0.046580</td>\n",
       "      <td>-0.109505</td>\n",
       "      <td>0.163064</td>\n",
       "    </tr>\n",
       "    <tr>\n",
       "      <th>Profile</th>\n",
       "      <td>0.189289</td>\n",
       "      <td>-0.115863</td>\n",
       "      <td>1.000000</td>\n",
       "      <td>-0.170498</td>\n",
       "      <td>0.145226</td>\n",
       "      <td>0.029258</td>\n",
       "      <td>0.017022</td>\n",
       "      <td>-0.017952</td>\n",
       "      <td>0.155973</td>\n",
       "    </tr>\n",
       "    <tr>\n",
       "      <th>Miscellaneous_Info</th>\n",
       "      <td>-0.076278</td>\n",
       "      <td>0.738919</td>\n",
       "      <td>-0.170498</td>\n",
       "      <td>1.000000</td>\n",
       "      <td>0.168466</td>\n",
       "      <td>0.193957</td>\n",
       "      <td>-0.041849</td>\n",
       "      <td>-0.101236</td>\n",
       "      <td>0.171008</td>\n",
       "    </tr>\n",
       "    <tr>\n",
       "      <th>Fees</th>\n",
       "      <td>0.034670</td>\n",
       "      <td>0.163389</td>\n",
       "      <td>0.145226</td>\n",
       "      <td>0.168466</td>\n",
       "      <td>1.000000</td>\n",
       "      <td>0.236147</td>\n",
       "      <td>-0.062547</td>\n",
       "      <td>-0.041887</td>\n",
       "      <td>0.971621</td>\n",
       "    </tr>\n",
       "    <tr>\n",
       "      <th>qualifications</th>\n",
       "      <td>0.062010</td>\n",
       "      <td>0.234079</td>\n",
       "      <td>0.029258</td>\n",
       "      <td>0.193957</td>\n",
       "      <td>0.236147</td>\n",
       "      <td>1.000000</td>\n",
       "      <td>-0.026707</td>\n",
       "      <td>-0.051594</td>\n",
       "      <td>0.245343</td>\n",
       "    </tr>\n",
       "    <tr>\n",
       "      <th>Location</th>\n",
       "      <td>-0.007309</td>\n",
       "      <td>-0.046580</td>\n",
       "      <td>0.017022</td>\n",
       "      <td>-0.041849</td>\n",
       "      <td>-0.062547</td>\n",
       "      <td>-0.026707</td>\n",
       "      <td>1.000000</td>\n",
       "      <td>-0.068469</td>\n",
       "      <td>-0.064265</td>\n",
       "    </tr>\n",
       "    <tr>\n",
       "      <th>City</th>\n",
       "      <td>-0.004461</td>\n",
       "      <td>-0.109505</td>\n",
       "      <td>-0.017952</td>\n",
       "      <td>-0.101236</td>\n",
       "      <td>-0.041887</td>\n",
       "      <td>-0.051594</td>\n",
       "      <td>-0.068469</td>\n",
       "      <td>1.000000</td>\n",
       "      <td>-0.039355</td>\n",
       "    </tr>\n",
       "    <tr>\n",
       "      <th>Fee_category</th>\n",
       "      <td>0.042167</td>\n",
       "      <td>0.163064</td>\n",
       "      <td>0.155973</td>\n",
       "      <td>0.171008</td>\n",
       "      <td>0.971621</td>\n",
       "      <td>0.245343</td>\n",
       "      <td>-0.064265</td>\n",
       "      <td>-0.039355</td>\n",
       "      <td>1.000000</td>\n",
       "    </tr>\n",
       "  </tbody>\n",
       "</table>\n",
       "</div>"
      ],
      "text/plain": [
       "                    Experience    Rating   Profile  Miscellaneous_Info  \\\n",
       "Experience            1.000000  0.028617  0.189289           -0.076278   \n",
       "Rating                0.028617  1.000000 -0.115863            0.738919   \n",
       "Profile               0.189289 -0.115863  1.000000           -0.170498   \n",
       "Miscellaneous_Info   -0.076278  0.738919 -0.170498            1.000000   \n",
       "Fees                  0.034670  0.163389  0.145226            0.168466   \n",
       "qualifications        0.062010  0.234079  0.029258            0.193957   \n",
       "Location             -0.007309 -0.046580  0.017022           -0.041849   \n",
       "City                 -0.004461 -0.109505 -0.017952           -0.101236   \n",
       "Fee_category          0.042167  0.163064  0.155973            0.171008   \n",
       "\n",
       "                        Fees  qualifications  Location      City  Fee_category  \n",
       "Experience          0.034670        0.062010 -0.007309 -0.004461      0.042167  \n",
       "Rating              0.163389        0.234079 -0.046580 -0.109505      0.163064  \n",
       "Profile             0.145226        0.029258  0.017022 -0.017952      0.155973  \n",
       "Miscellaneous_Info  0.168466        0.193957 -0.041849 -0.101236      0.171008  \n",
       "Fees                1.000000        0.236147 -0.062547 -0.041887      0.971621  \n",
       "qualifications      0.236147        1.000000 -0.026707 -0.051594      0.245343  \n",
       "Location           -0.062547       -0.026707  1.000000 -0.068469     -0.064265  \n",
       "City               -0.041887       -0.051594 -0.068469  1.000000     -0.039355  \n",
       "Fee_category        0.971621        0.245343 -0.064265 -0.039355      1.000000  "
      ]
     },
     "execution_count": 65,
     "metadata": {},
     "output_type": "execute_result"
    }
   ],
   "source": [
    "train.corr()"
   ]
  },
  {
   "cell_type": "code",
   "execution_count": 66,
   "metadata": {},
   "outputs": [
    {
     "data": {
      "text/plain": [
       "<AxesSubplot:>"
      ]
     },
     "execution_count": 66,
     "metadata": {},
     "output_type": "execute_result"
    },
    {
     "data": {
      "image/png": "[encoded data removed]",
      "text/plain": [
       "<Figure size 1584x504 with 2 Axes>"
      ]
     },
     "metadata": {
      "needs_background": "light"
     },
     "output_type": "display_data"
    }
   ],
   "source": [
    "plt.figure(figsize=(22,7))\n",
    "sb.heatmap(train.corr(),annot=True,linewidths=0.1,linecolor=\"purple\",fmt=\"0.2f\")"
   ]
  },
  {
   "cell_type": "markdown",
   "metadata": {},
   "source": [
    "for i in test.columns:\n",
    "    test[i]=oe.fit_transform(test[i].values.reshape(-1,1))"
   ]
  },
  {
   "cell_type": "code",
   "execution_count": 67,
   "metadata": {},
   "outputs": [
    {
     "data": {
      "text/html": [
       "<div>\n",
       "<style scoped>\n",
       "    .dataframe tbody tr th:only-of-type {\n",
       "        vertical-align: middle;\n",
       "    }\n",
       "\n",
       "    .dataframe tbody tr th {\n",
       "        vertical-align: top;\n",
       "    }\n",
       "\n",
       "    .dataframe thead th {\n",
       "        text-align: right;\n",
       "    }\n",
       "</style>\n",
       "<table border=\"1\" class=\"dataframe\">\n",
       "  <thead>\n",
       "    <tr style=\"text-align: right;\">\n",
       "      <th></th>\n",
       "      <th>Experience</th>\n",
       "      <th>Rating</th>\n",
       "      <th>Profile</th>\n",
       "      <th>Miscellaneous_Info</th>\n",
       "      <th>Fees</th>\n",
       "      <th>qualifications</th>\n",
       "      <th>Location</th>\n",
       "      <th>City</th>\n",
       "      <th>Fee_category</th>\n",
       "    </tr>\n",
       "  </thead>\n",
       "  <tbody>\n",
       "    <tr>\n",
       "      <th>0</th>\n",
       "      <td>0.603023</td>\n",
       "      <td>1.00000</td>\n",
       "      <td>1.0</td>\n",
       "      <td>1.0</td>\n",
       "      <td>100.0</td>\n",
       "      <td>0.111111</td>\n",
       "      <td>0.342197</td>\n",
       "      <td>0.4</td>\n",
       "      <td>0.2</td>\n",
       "    </tr>\n",
       "    <tr>\n",
       "      <th>1</th>\n",
       "      <td>0.426401</td>\n",
       "      <td>0.99818</td>\n",
       "      <td>0.0</td>\n",
       "      <td>1.0</td>\n",
       "      <td>350.0</td>\n",
       "      <td>0.111111</td>\n",
       "      <td>0.989595</td>\n",
       "      <td>0.0</td>\n",
       "      <td>0.4</td>\n",
       "    </tr>\n",
       "    <tr>\n",
       "      <th>2</th>\n",
       "      <td>0.369274</td>\n",
       "      <td>0.00000</td>\n",
       "      <td>0.6</td>\n",
       "      <td>0.0</td>\n",
       "      <td>300.0</td>\n",
       "      <td>0.111111</td>\n",
       "      <td>0.522543</td>\n",
       "      <td>0.0</td>\n",
       "      <td>0.4</td>\n",
       "    </tr>\n",
       "    <tr>\n",
       "      <th>3</th>\n",
       "      <td>0.426401</td>\n",
       "      <td>0.00000</td>\n",
       "      <td>0.0</td>\n",
       "      <td>1.0</td>\n",
       "      <td>250.0</td>\n",
       "      <td>0.111111</td>\n",
       "      <td>0.078613</td>\n",
       "      <td>0.0</td>\n",
       "      <td>0.4</td>\n",
       "    </tr>\n",
       "    <tr>\n",
       "      <th>4</th>\n",
       "      <td>0.550482</td>\n",
       "      <td>1.00000</td>\n",
       "      <td>0.0</td>\n",
       "      <td>1.0</td>\n",
       "      <td>250.0</td>\n",
       "      <td>0.000000</td>\n",
       "      <td>0.387283</td>\n",
       "      <td>0.1</td>\n",
       "      <td>0.4</td>\n",
       "    </tr>\n",
       "  </tbody>\n",
       "</table>\n",
       "</div>"
      ],
      "text/plain": [
       "   Experience   Rating  Profile  Miscellaneous_Info   Fees  qualifications  \\\n",
       "0    0.603023  1.00000      1.0                 1.0  100.0        0.111111   \n",
       "1    0.426401  0.99818      0.0                 1.0  350.0        0.111111   \n",
       "2    0.369274  0.00000      0.6                 0.0  300.0        0.111111   \n",
       "3    0.426401  0.00000      0.0                 1.0  250.0        0.111111   \n",
       "4    0.550482  1.00000      0.0                 1.0  250.0        0.000000   \n",
       "\n",
       "   Location  City  Fee_category  \n",
       "0  0.342197   0.4           0.2  \n",
       "1  0.989595   0.0           0.4  \n",
       "2  0.522543   0.0           0.4  \n",
       "3  0.078613   0.0           0.4  \n",
       "4  0.387283   0.1           0.4  "
      ]
     },
     "execution_count": 67,
     "metadata": {},
     "output_type": "execute_result"
    }
   ],
   "source": [
    "train.head()"
   ]
  },
  {
   "cell_type": "code",
   "execution_count": 76,
   "metadata": {},
   "outputs": [],
   "source": [
    "for i in test.columns:\n",
    "    if test[i].dtypes=='O':\n",
    "        test[i]=oe.fit_transform(test[i].values.reshape(-1,1))"
   ]
  },
  {
   "cell_type": "code",
   "execution_count": 77,
   "metadata": {},
   "outputs": [],
   "source": [
    "for i in test.columns:\n",
    "    if  i=='Fees':\n",
    "        pass\n",
    "    else:\n",
    "        test[i]=mms.fit_transform(test[i].values.reshape(-1,1))"
   ]
  },
  {
   "cell_type": "code",
   "execution_count": 78,
   "metadata": {},
   "outputs": [
    {
     "data": {
      "text/html": [
       "<div>\n",
       "<style scoped>\n",
       "    .dataframe tbody tr th:only-of-type {\n",
       "        vertical-align: middle;\n",
       "    }\n",
       "\n",
       "    .dataframe tbody tr th {\n",
       "        vertical-align: top;\n",
       "    }\n",
       "\n",
       "    .dataframe thead th {\n",
       "        text-align: right;\n",
       "    }\n",
       "</style>\n",
       "<table border=\"1\" class=\"dataframe\">\n",
       "  <thead>\n",
       "    <tr style=\"text-align: right;\">\n",
       "      <th></th>\n",
       "      <th>Experience</th>\n",
       "      <th>Rating</th>\n",
       "      <th>Profile</th>\n",
       "      <th>Miscellaneous_Info</th>\n",
       "      <th>qualifications</th>\n",
       "      <th>Location</th>\n",
       "      <th>City</th>\n",
       "      <th>Fee_category</th>\n",
       "    </tr>\n",
       "  </thead>\n",
       "  <tbody>\n",
       "    <tr>\n",
       "      <th>5961</th>\n",
       "      <td>0.733799</td>\n",
       "      <td>0.000000</td>\n",
       "      <td>0.8</td>\n",
       "      <td>0.0</td>\n",
       "      <td>0.0000</td>\n",
       "      <td>0.241087</td>\n",
       "      <td>0.750</td>\n",
       "      <td>0.0</td>\n",
       "    </tr>\n",
       "    <tr>\n",
       "      <th>5962</th>\n",
       "      <td>0.690596</td>\n",
       "      <td>0.000000</td>\n",
       "      <td>0.6</td>\n",
       "      <td>0.0</td>\n",
       "      <td>0.0625</td>\n",
       "      <td>0.981324</td>\n",
       "      <td>0.625</td>\n",
       "      <td>0.0</td>\n",
       "    </tr>\n",
       "    <tr>\n",
       "      <th>5963</th>\n",
       "      <td>0.784465</td>\n",
       "      <td>0.972702</td>\n",
       "      <td>0.4</td>\n",
       "      <td>1.0</td>\n",
       "      <td>0.0625</td>\n",
       "      <td>0.359932</td>\n",
       "      <td>0.125</td>\n",
       "      <td>0.0</td>\n",
       "    </tr>\n",
       "    <tr>\n",
       "      <th>5964</th>\n",
       "      <td>0.000000</td>\n",
       "      <td>0.000000</td>\n",
       "      <td>0.0</td>\n",
       "      <td>0.0</td>\n",
       "      <td>0.0000</td>\n",
       "      <td>0.633277</td>\n",
       "      <td>0.375</td>\n",
       "      <td>0.0</td>\n",
       "    </tr>\n",
       "    <tr>\n",
       "      <th>5965</th>\n",
       "      <td>0.496139</td>\n",
       "      <td>1.000000</td>\n",
       "      <td>0.2</td>\n",
       "      <td>1.0</td>\n",
       "      <td>0.0625</td>\n",
       "      <td>0.392190</td>\n",
       "      <td>0.000</td>\n",
       "      <td>0.0</td>\n",
       "    </tr>\n",
       "    <tr>\n",
       "      <th>...</th>\n",
       "      <td>...</td>\n",
       "      <td>...</td>\n",
       "      <td>...</td>\n",
       "      <td>...</td>\n",
       "      <td>...</td>\n",
       "      <td>...</td>\n",
       "      <td>...</td>\n",
       "      <td>...</td>\n",
       "    </tr>\n",
       "    <tr>\n",
       "      <th>7943</th>\n",
       "      <td>0.392232</td>\n",
       "      <td>0.000000</td>\n",
       "      <td>0.0</td>\n",
       "      <td>0.0</td>\n",
       "      <td>0.0625</td>\n",
       "      <td>0.098472</td>\n",
       "      <td>0.000</td>\n",
       "      <td>0.0</td>\n",
       "    </tr>\n",
       "    <tr>\n",
       "      <th>7944</th>\n",
       "      <td>0.248069</td>\n",
       "      <td>0.000000</td>\n",
       "      <td>0.4</td>\n",
       "      <td>0.0</td>\n",
       "      <td>0.1250</td>\n",
       "      <td>0.162988</td>\n",
       "      <td>0.125</td>\n",
       "      <td>0.0</td>\n",
       "    </tr>\n",
       "    <tr>\n",
       "      <th>7945</th>\n",
       "      <td>0.372104</td>\n",
       "      <td>0.000000</td>\n",
       "      <td>0.8</td>\n",
       "      <td>0.0</td>\n",
       "      <td>0.0625</td>\n",
       "      <td>0.718166</td>\n",
       "      <td>0.125</td>\n",
       "      <td>0.0</td>\n",
       "    </tr>\n",
       "    <tr>\n",
       "      <th>7946</th>\n",
       "      <td>0.429669</td>\n",
       "      <td>0.998180</td>\n",
       "      <td>0.2</td>\n",
       "      <td>1.0</td>\n",
       "      <td>0.0000</td>\n",
       "      <td>0.044143</td>\n",
       "      <td>0.000</td>\n",
       "      <td>0.0</td>\n",
       "    </tr>\n",
       "    <tr>\n",
       "      <th>7947</th>\n",
       "      <td>0.350823</td>\n",
       "      <td>0.000000</td>\n",
       "      <td>0.4</td>\n",
       "      <td>1.0</td>\n",
       "      <td>0.1250</td>\n",
       "      <td>0.667233</td>\n",
       "      <td>0.125</td>\n",
       "      <td>0.0</td>\n",
       "    </tr>\n",
       "  </tbody>\n",
       "</table>\n",
       "<p>1987 rows × 8 columns</p>\n",
       "</div>"
      ],
      "text/plain": [
       "      Experience    Rating  Profile  Miscellaneous_Info  qualifications  \\\n",
       "5961    0.733799  0.000000      0.8                 0.0          0.0000   \n",
       "5962    0.690596  0.000000      0.6                 0.0          0.0625   \n",
       "5963    0.784465  0.972702      0.4                 1.0          0.0625   \n",
       "5964    0.000000  0.000000      0.0                 0.0          0.0000   \n",
       "5965    0.496139  1.000000      0.2                 1.0          0.0625   \n",
       "...          ...       ...      ...                 ...             ...   \n",
       "7943    0.392232  0.000000      0.0                 0.0          0.0625   \n",
       "7944    0.248069  0.000000      0.4                 0.0          0.1250   \n",
       "7945    0.372104  0.000000      0.8                 0.0          0.0625   \n",
       "7946    0.429669  0.998180      0.2                 1.0          0.0000   \n",
       "7947    0.350823  0.000000      0.4                 1.0          0.1250   \n",
       "\n",
       "      Location   City  Fee_category  \n",
       "5961  0.241087  0.750           0.0  \n",
       "5962  0.981324  0.625           0.0  \n",
       "5963  0.359932  0.125           0.0  \n",
       "5964  0.633277  0.375           0.0  \n",
       "5965  0.392190  0.000           0.0  \n",
       "...        ...    ...           ...  \n",
       "7943  0.098472  0.000           0.0  \n",
       "7944  0.162988  0.125           0.0  \n",
       "7945  0.718166  0.125           0.0  \n",
       "7946  0.044143  0.000           0.0  \n",
       "7947  0.667233  0.125           0.0  \n",
       "\n",
       "[1987 rows x 8 columns]"
      ]
     },
     "execution_count": 78,
     "metadata": {},
     "output_type": "execute_result"
    }
   ],
   "source": [
    "test"
   ]
  },
  {
   "cell_type": "code",
   "execution_count": 68,
   "metadata": {},
   "outputs": [],
   "source": [
    "x=train.drop(\"Fees\",axis=1)"
   ]
  },
  {
   "cell_type": "code",
   "execution_count": 69,
   "metadata": {},
   "outputs": [],
   "source": [
    "y=train[\"Fees\"]"
   ]
  },
  {
   "cell_type": "code",
   "execution_count": 70,
   "metadata": {},
   "outputs": [
    {
     "data": {
      "text/html": [
       "<div>\n",
       "<style scoped>\n",
       "    .dataframe tbody tr th:only-of-type {\n",
       "        vertical-align: middle;\n",
       "    }\n",
       "\n",
       "    .dataframe tbody tr th {\n",
       "        vertical-align: top;\n",
       "    }\n",
       "\n",
       "    .dataframe thead th {\n",
       "        text-align: right;\n",
       "    }\n",
       "</style>\n",
       "<table border=\"1\" class=\"dataframe\">\n",
       "  <thead>\n",
       "    <tr style=\"text-align: right;\">\n",
       "      <th></th>\n",
       "      <th>Experience</th>\n",
       "      <th>Rating</th>\n",
       "      <th>Profile</th>\n",
       "      <th>Miscellaneous_Info</th>\n",
       "      <th>qualifications</th>\n",
       "      <th>Location</th>\n",
       "      <th>City</th>\n",
       "      <th>Fee_category</th>\n",
       "    </tr>\n",
       "  </thead>\n",
       "  <tbody>\n",
       "    <tr>\n",
       "      <th>0</th>\n",
       "      <td>0.603023</td>\n",
       "      <td>1.000000</td>\n",
       "      <td>1.0</td>\n",
       "      <td>1.0</td>\n",
       "      <td>0.111111</td>\n",
       "      <td>0.342197</td>\n",
       "      <td>0.4</td>\n",
       "      <td>0.2</td>\n",
       "    </tr>\n",
       "    <tr>\n",
       "      <th>1</th>\n",
       "      <td>0.426401</td>\n",
       "      <td>0.998180</td>\n",
       "      <td>0.0</td>\n",
       "      <td>1.0</td>\n",
       "      <td>0.111111</td>\n",
       "      <td>0.989595</td>\n",
       "      <td>0.0</td>\n",
       "      <td>0.4</td>\n",
       "    </tr>\n",
       "    <tr>\n",
       "      <th>2</th>\n",
       "      <td>0.369274</td>\n",
       "      <td>0.000000</td>\n",
       "      <td>0.6</td>\n",
       "      <td>0.0</td>\n",
       "      <td>0.111111</td>\n",
       "      <td>0.522543</td>\n",
       "      <td>0.0</td>\n",
       "      <td>0.4</td>\n",
       "    </tr>\n",
       "    <tr>\n",
       "      <th>3</th>\n",
       "      <td>0.426401</td>\n",
       "      <td>0.000000</td>\n",
       "      <td>0.0</td>\n",
       "      <td>1.0</td>\n",
       "      <td>0.111111</td>\n",
       "      <td>0.078613</td>\n",
       "      <td>0.0</td>\n",
       "      <td>0.4</td>\n",
       "    </tr>\n",
       "    <tr>\n",
       "      <th>4</th>\n",
       "      <td>0.550482</td>\n",
       "      <td>1.000000</td>\n",
       "      <td>0.0</td>\n",
       "      <td>1.0</td>\n",
       "      <td>0.000000</td>\n",
       "      <td>0.387283</td>\n",
       "      <td>0.1</td>\n",
       "      <td>0.4</td>\n",
       "    </tr>\n",
       "    <tr>\n",
       "      <th>...</th>\n",
       "      <td>...</td>\n",
       "      <td>...</td>\n",
       "      <td>...</td>\n",
       "      <td>...</td>\n",
       "      <td>...</td>\n",
       "      <td>...</td>\n",
       "      <td>...</td>\n",
       "      <td>...</td>\n",
       "    </tr>\n",
       "    <tr>\n",
       "      <th>5956</th>\n",
       "      <td>0.536543</td>\n",
       "      <td>0.998180</td>\n",
       "      <td>0.6</td>\n",
       "      <td>1.0</td>\n",
       "      <td>0.111111</td>\n",
       "      <td>0.080925</td>\n",
       "      <td>0.0</td>\n",
       "      <td>0.4</td>\n",
       "    </tr>\n",
       "    <tr>\n",
       "      <th>5957</th>\n",
       "      <td>0.707107</td>\n",
       "      <td>0.000000</td>\n",
       "      <td>0.8</td>\n",
       "      <td>0.0</td>\n",
       "      <td>0.000000</td>\n",
       "      <td>0.618497</td>\n",
       "      <td>0.1</td>\n",
       "      <td>0.2</td>\n",
       "    </tr>\n",
       "    <tr>\n",
       "      <th>5958</th>\n",
       "      <td>0.788170</td>\n",
       "      <td>0.997270</td>\n",
       "      <td>0.8</td>\n",
       "      <td>1.0</td>\n",
       "      <td>0.000000</td>\n",
       "      <td>0.248555</td>\n",
       "      <td>0.3</td>\n",
       "      <td>0.8</td>\n",
       "    </tr>\n",
       "    <tr>\n",
       "      <th>5959</th>\n",
       "      <td>0.476731</td>\n",
       "      <td>0.990901</td>\n",
       "      <td>0.8</td>\n",
       "      <td>1.0</td>\n",
       "      <td>0.111111</td>\n",
       "      <td>0.972254</td>\n",
       "      <td>0.6</td>\n",
       "      <td>0.2</td>\n",
       "    </tr>\n",
       "    <tr>\n",
       "      <th>5960</th>\n",
       "      <td>0.507519</td>\n",
       "      <td>1.000000</td>\n",
       "      <td>0.2</td>\n",
       "      <td>1.0</td>\n",
       "      <td>0.111111</td>\n",
       "      <td>0.690173</td>\n",
       "      <td>0.3</td>\n",
       "      <td>0.2</td>\n",
       "    </tr>\n",
       "  </tbody>\n",
       "</table>\n",
       "<p>5961 rows × 8 columns</p>\n",
       "</div>"
      ],
      "text/plain": [
       "      Experience    Rating  Profile  Miscellaneous_Info  qualifications  \\\n",
       "0       0.603023  1.000000      1.0                 1.0        0.111111   \n",
       "1       0.426401  0.998180      0.0                 1.0        0.111111   \n",
       "2       0.369274  0.000000      0.6                 0.0        0.111111   \n",
       "3       0.426401  0.000000      0.0                 1.0        0.111111   \n",
       "4       0.550482  1.000000      0.0                 1.0        0.000000   \n",
       "...          ...       ...      ...                 ...             ...   \n",
       "5956    0.536543  0.998180      0.6                 1.0        0.111111   \n",
       "5957    0.707107  0.000000      0.8                 0.0        0.000000   \n",
       "5958    0.788170  0.997270      0.8                 1.0        0.000000   \n",
       "5959    0.476731  0.990901      0.8                 1.0        0.111111   \n",
       "5960    0.507519  1.000000      0.2                 1.0        0.111111   \n",
       "\n",
       "      Location  City  Fee_category  \n",
       "0     0.342197   0.4           0.2  \n",
       "1     0.989595   0.0           0.4  \n",
       "2     0.522543   0.0           0.4  \n",
       "3     0.078613   0.0           0.4  \n",
       "4     0.387283   0.1           0.4  \n",
       "...        ...   ...           ...  \n",
       "5956  0.080925   0.0           0.4  \n",
       "5957  0.618497   0.1           0.2  \n",
       "5958  0.248555   0.3           0.8  \n",
       "5959  0.972254   0.6           0.2  \n",
       "5960  0.690173   0.3           0.2  \n",
       "\n",
       "[5961 rows x 8 columns]"
      ]
     },
     "execution_count": 70,
     "metadata": {},
     "output_type": "execute_result"
    }
   ],
   "source": [
    "x"
   ]
  },
  {
   "cell_type": "code",
   "execution_count": 71,
   "metadata": {},
   "outputs": [
    {
     "data": {
      "text/plain": [
       "0       100.0\n",
       "1       350.0\n",
       "2       300.0\n",
       "3       250.0\n",
       "4       250.0\n",
       "        ...  \n",
       "5956    300.0\n",
       "5957    100.0\n",
       "5958    600.0\n",
       "5959    100.0\n",
       "5960    200.0\n",
       "Name: Fees, Length: 5961, dtype: float64"
      ]
     },
     "execution_count": 71,
     "metadata": {},
     "output_type": "execute_result"
    }
   ],
   "source": [
    "y"
   ]
  },
  {
   "cell_type": "code",
   "execution_count": null,
   "metadata": {},
   "outputs": [],
   "source": [
    "for i in x.columns:\n",
    "        x[i]=mms.fit_transform(x[i].values.reshape(-1,1))"
   ]
  },
  {
   "cell_type": "code",
   "execution_count": null,
   "metadata": {},
   "outputs": [],
   "source": [
    "x"
   ]
  },
  {
   "cell_type": "code",
   "execution_count": 72,
   "metadata": {},
   "outputs": [],
   "source": [
    "from sklearn.preprocessing import MinMaxScaler\n",
    "mms=MinMaxScaler()\n",
    "\n",
    "from sklearn.metrics import r2_score\n",
    "from sklearn.linear_model import LinearRegression\n",
    "\n",
    "from sklearn.model_selection import train_test_split\n",
    "from sklearn.ensemble import RandomForestRegressor\n",
    "from sklearn.tree import DecisionTreeRegressor\n",
    "from sklearn.neighbors import KNeighborsRegressor\n",
    "from sklearn.svm import SVR\n",
    "\n",
    "from sklearn.model_selection import cross_val_score\n",
    "from sklearn.model_selection import GridSearchCV\n",
    "\n",
    "from sklearn.metrics import mean_squared_error,mean_absolute_error\n",
    "\n",
    "import warnings\n",
    "warnings.filterwarnings(\"ignore\")"
   ]
  },
  {
   "cell_type": "code",
   "execution_count": 86,
   "metadata": {},
   "outputs": [],
   "source": [
    "lr=LinearRegression()\n",
    "rfr=RandomForestRegressor()\n",
    "dtr=DecisionTreeRegressor()\n",
    "knr=KNeighborsRegressor()\n",
    "svr=SVR()"
   ]
  },
  {
   "cell_type": "code",
   "execution_count": 88,
   "metadata": {},
   "outputs": [
    {
     "name": "stdout",
     "output_type": "stream",
     "text": [
      "Best accuracy is 0.9576660418945167 On Random State 71\n"
     ]
    }
   ],
   "source": [
    "maxAccu=0\n",
    "maxRS=0\n",
    "for i in range(1,100):\n",
    "        x_train,x_test,y_train,y_test=train_test_split(x,y,test_size=0.20,random_state=i)\n",
    "        rfr.fit(x_train,y_train)\n",
    "        pred=rfr.predict(x_test)\n",
    "        acc=r2_score(y_test,pred)\n",
    "        if acc>maxAccu:\n",
    "            maxAccu=acc\n",
    "            maxRS=i\n",
    "print(\"Best accuracy is\",maxAccu,\"On Random State\", maxRS)\n"
   ]
  },
  {
   "cell_type": "code",
   "execution_count": 80,
   "metadata": {},
   "outputs": [
    {
     "name": "stdout",
     "output_type": "stream",
     "text": [
      "0.9482791810323724\n"
     ]
    }
   ],
   "source": [
    "x_train,x_test,y_train,y_test=train_test_split(x,y,test_size=0.2,random_state=71)\n",
    "lr.fit(x_train,y_train)\n",
    "pred_train=lr.predict(x_train)\n",
    "pred_lr=lr.predict(x_test)\n",
    "print(r2_score(y_test,pred_lr))"
   ]
  },
  {
   "cell_type": "code",
   "execution_count": 81,
   "metadata": {},
   "outputs": [
    {
     "name": "stdout",
     "output_type": "stream",
     "text": [
      "0.9543006624575807\n"
     ]
    }
   ],
   "source": [
    "x_train,x_test,y_train,y_test=train_test_split(x,y,test_size=0.2,random_state=30)\n",
    "rfr.fit(x_train,y_train)\n",
    "pred_train=rfr.predict(x_train)\n",
    "pred_rfr=rfr.predict(x_test)\n",
    "print(r2_score(y_test,pred_rfr))"
   ]
  },
  {
   "cell_type": "code",
   "execution_count": 82,
   "metadata": {},
   "outputs": [
    {
     "name": "stdout",
     "output_type": "stream",
     "text": [
      "0.9086143188015526\n"
     ]
    }
   ],
   "source": [
    "x_train,x_test,y_train,y_test=train_test_split(x,y,test_size=0.2,random_state=1)\n",
    "dtr.fit(x_train,y_train)\n",
    "pred_train=dtr.predict(x_train)\n",
    "pred_dtr=dtr.predict(x_test)\n",
    "print(r2_score(y_test,pred_dtr))"
   ]
  },
  {
   "cell_type": "code",
   "execution_count": 83,
   "metadata": {},
   "outputs": [
    {
     "name": "stdout",
     "output_type": "stream",
     "text": [
      "0.917001868823738\n"
     ]
    }
   ],
   "source": [
    "x_train,x_test,y_train,y_test=train_test_split(x,y,test_size=0.2,random_state=51)\n",
    "knr.fit(x_train,y_train)\n",
    "pred_train=knr.predict(x_train)\n",
    "pred_knr=knr.predict(x_test)\n",
    "print(r2_score(y_test,pred_knr))"
   ]
  },
  {
   "cell_type": "code",
   "execution_count": 92,
   "metadata": {},
   "outputs": [
    {
     "name": "stdout",
     "output_type": "stream",
     "text": [
      "0.687285179708437\n"
     ]
    }
   ],
   "source": [
    "x_train,x_test,y_train,y_test=train_test_split(x,y,test_size=0.2,random_state=51)\n",
    "svr.fit(x_train,y_train)\n",
    "pred_train=svr.predict(x_train)\n",
    "pred_svr=svr.predict(x_test)\n",
    "print(r2_score(y_test,pred_svr))"
   ]
  },
  {
   "cell_type": "code",
   "execution_count": 93,
   "metadata": {},
   "outputs": [],
   "source": [
    "from sklearn.model_selection import GridSearchCV\n",
    "from sklearn.model_selection import cross_val_score\n",
    "from sklearn.linear_model import Lasso,Ridge"
   ]
  },
  {
   "cell_type": "code",
   "execution_count": 94,
   "metadata": {},
   "outputs": [
    {
     "name": "stdout",
     "output_type": "stream",
     "text": [
      "{'alpha': 0.1, 'random_state': 0}\n"
     ]
    }
   ],
   "source": [
    "parameters={\"alpha\":[.0001,.001,.01,.1,1,10],\"random_state\":list(range(0,10))}\n",
    "ls=Lasso()\n",
    "clf=GridSearchCV(ls,parameters)\n",
    "clf.fit(x_train,y_train)\n",
    "print(clf.best_params_)"
   ]
  },
  {
   "cell_type": "code",
   "execution_count": 95,
   "metadata": {},
   "outputs": [
    {
     "data": {
      "text/plain": [
       "0.944390471614938"
      ]
     },
     "execution_count": 95,
     "metadata": {},
     "output_type": "execute_result"
    }
   ],
   "source": [
    "ls=Lasso(alpha=0.1,random_state=0)\n",
    "ls.fit(x_train,y_train)\n",
    "pred_ls=ls.predict(x_test)\n",
    "lss=r2_score(y_test,pred_ls)\n",
    "lss"
   ]
  },
  {
   "cell_type": "code",
   "execution_count": 96,
   "metadata": {},
   "outputs": [
    {
     "name": "stdout",
     "output_type": "stream",
     "text": [
      "{'alpha': 0.01, 'random_state': 0}\n"
     ]
    }
   ],
   "source": [
    "parameters={\"alpha\":[.0001,.001,.01,.1,1,10],\"random_state\":list(range(0,10))}\n",
    "rd=Ridge()\n",
    "clf=GridSearchCV(rd,parameters)\n",
    "clf.fit(x_train,y_train)\n",
    "print(clf.best_params_)"
   ]
  },
  {
   "cell_type": "code",
   "execution_count": 97,
   "metadata": {},
   "outputs": [
    {
     "data": {
      "text/plain": [
       "0.9445091894108277"
      ]
     },
     "execution_count": 97,
     "metadata": {},
     "output_type": "execute_result"
    }
   ],
   "source": [
    "rd=Ridge(alpha=0.01,random_state=0)\n",
    "rd.fit(x_train,y_train)\n",
    "pred_rd=rd.predict(x_test)\n",
    "rid=r2_score(y_test,pred_rd)\n",
    "rid"
   ]
  },
  {
   "cell_type": "code",
   "execution_count": 98,
   "metadata": {},
   "outputs": [
    {
     "name": "stdout",
     "output_type": "stream",
     "text": [
      "error Linear regression:\n",
      "mean absolute error: 212.54685625317185\n",
      "mean squared error: 72870.00377735028\n",
      "root mean squared error: 269.9444457242088\n"
     ]
    }
   ],
   "source": [
    "print(\"error Linear regression:\")\n",
    "\n",
    "print(\"mean absolute error:\",mean_absolute_error(y_test,pred_lr))\n",
    "print(\"mean squared error:\",mean_squared_error(y_test,pred_lr))\n",
    "\n",
    "print(\"root mean squared error:\",np.sqrt(mean_squared_error(y_test,pred_lr)))"
   ]
  },
  {
   "cell_type": "code",
   "execution_count": 99,
   "metadata": {},
   "outputs": [
    {
     "name": "stdout",
     "output_type": "stream",
     "text": [
      "error Random Forest Classiefier:\n",
      "mean absolute error: 206.56920548437313\n",
      "mean squared error: 69516.13686899292\n",
      "root mean squared error: 263.65913006947613\n"
     ]
    }
   ],
   "source": [
    "print(\"error Random Forest Classiefier:\")\n",
    "\n",
    "print(\"mean absolute error:\",mean_absolute_error(y_test,pred_rfr))\n",
    "print(\"mean squared error:\",mean_squared_error(y_test,pred_rfr))\n",
    "\n",
    "print(\"root mean squared error:\",np.sqrt(mean_squared_error(y_test,pred_rfr)))"
   ]
  },
  {
   "cell_type": "code",
   "execution_count": 101,
   "metadata": {},
   "outputs": [
    {
     "name": "stdout",
     "output_type": "stream",
     "text": [
      "error Decsion Tree classiefier:\n",
      "mean absolute error: 207.67812238055322\n",
      "mean squared error: 70771.16512992456\n",
      "root mean squared error: 266.0285043560644\n"
     ]
    }
   ],
   "source": [
    "print(\"error Decsion Tree classiefier:\")\n",
    "\n",
    "print(\"mean absolute error:\",mean_absolute_error(y_test,pred_dtr))\n",
    "print(\"mean squared error:\",mean_squared_error(y_test,pred_dtr))\n",
    "\n",
    "print(\"root mean squared error:\",np.sqrt(mean_squared_error(y_test,pred_dtr)))"
   ]
  },
  {
   "cell_type": "code",
   "execution_count": 102,
   "metadata": {},
   "outputs": [
    {
     "name": "stdout",
     "output_type": "stream",
     "text": [
      "error K neighbour:\n",
      "mean absolute error: 41.871919530595136\n",
      "mean squared error: 3048.9498072087176\n",
      "root mean squared error: 55.21729626854902\n"
     ]
    }
   ],
   "source": [
    "print(\"error K neighbour:\")\n",
    "\n",
    "print(\"mean absolute error:\",mean_absolute_error(y_test,pred_knr))\n",
    "print(\"mean squared error:\",mean_squared_error(y_test,pred_knr))\n",
    "print(\"root mean squared error:\",np.sqrt(mean_squared_error(y_test,pred_knr)))"
   ]
  },
  {
   "cell_type": "code",
   "execution_count": 104,
   "metadata": {},
   "outputs": [
    {
     "data": {
      "text/plain": [
       "array([0.95115365, 0.95231857, 0.95750898, 0.95573084, 0.95136793])"
      ]
     },
     "execution_count": 104,
     "metadata": {},
     "output_type": "execute_result"
    }
   ],
   "source": [
    "score=cross_val_score(rfr,x,y,cv=5)\n",
    "score"
   ]
  },
  {
   "cell_type": "markdown",
   "metadata": {},
   "source": [
    "Hyper parameter tuning"
   ]
  },
  {
   "cell_type": "code",
   "execution_count": 103,
   "metadata": {},
   "outputs": [
    {
     "name": "stdout",
     "output_type": "stream",
     "text": [
      "{'criterion': 'mse', 'max_features': 'auto'}\n"
     ]
    }
   ],
   "source": [
    "parameters={\"criterion\":[\"mse\",\"mae\"],\"max_features\":[\"auto\",\"sqrt\",\"log2\"]}\n",
    "rfr=RandomForestRegressor()\n",
    "clf=GridSearchCV(rfr,parameters)\n",
    "clf.fit(x_train,y_train)\n",
    "print(clf.best_params_)"
   ]
  },
  {
   "cell_type": "code",
   "execution_count": 107,
   "metadata": {},
   "outputs": [
    {
     "name": "stdout",
     "output_type": "stream",
     "text": [
      "R2 Score 95.36999394410712\n",
      "Cross Val Score 95.36259837566391\n"
     ]
    }
   ],
   "source": [
    "rfr=RandomForestRegressor(criterion=\"mse\",max_features=\"auto\")\n",
    "rfr.fit(x_train,y_train)\n",
    "rfr.score(x_train,y_train)\n",
    "pred_rfr=rfr.predict(x_test)\n",
    "\n",
    "rfs=r2_score(y_test,pred_rfr)\n",
    "print(\"R2 Score\",rfs*100)\n",
    "\n",
    "rfscore=cross_val_score(rfr,x,y,cv=5)\n",
    "rfc=rfscore.mean()  \n",
    "print(\"Cross Val Score\",rfc*100)"
   ]
  },
  {
   "cell_type": "markdown",
   "metadata": {},
   "source": [
    "Getting best score in Random forest regressor"
   ]
  },
  {
   "cell_type": "code",
   "execution_count": 110,
   "metadata": {},
   "outputs": [
    {
     "data": {
      "image/png": "[encoded data removed]",
      "text/plain": [
       "<Figure size 576x432 with 1 Axes>"
      ]
     },
     "metadata": {
      "needs_background": "light"
     },
     "output_type": "display_data"
    }
   ],
   "source": [
    "plt.figure(figsize=(8,6))\n",
    "plt.scatter(x=y_test,y=pred_rfr,color=\"r\")\n",
    "plt.plot(y_test,y_test,color=\"b\")\n",
    "plt.xlabel(\"Actual Fees\",fontsize=14)\n",
    "plt.ylabel(\"predicted Fees\", fontsize=14)\n",
    "plt.title(\"Random Forest Regressor\",fontsize=18)\n",
    "plt.show()"
   ]
  },
  {
   "cell_type": "code",
   "execution_count": 111,
   "metadata": {},
   "outputs": [],
   "source": [
    "import pickle\n",
    "filename=\"Doctor_Fees.pkl\"\n",
    "pickle.dump(rfr,open(filename,\"wb\"))"
   ]
  },
  {
   "cell_type": "code",
   "execution_count": 112,
   "metadata": {},
   "outputs": [
    {
     "name": "stdout",
     "output_type": "stream",
     "text": [
      "0.9536999394410712\n"
     ]
    }
   ],
   "source": [
    "loaded_model=pickle.load(open('Doctor_Fees.pkl',\"rb\"))\n",
    "result=loaded_model.score(x_test,y_test)\n",
    "print(result)"
   ]
  },
  {
   "cell_type": "code",
   "execution_count": 113,
   "metadata": {},
   "outputs": [
    {
     "data": {
      "text/html": [
       "<div>\n",
       "<style scoped>\n",
       "    .dataframe tbody tr th:only-of-type {\n",
       "        vertical-align: middle;\n",
       "    }\n",
       "\n",
       "    .dataframe tbody tr th {\n",
       "        vertical-align: top;\n",
       "    }\n",
       "\n",
       "    .dataframe thead th {\n",
       "        text-align: right;\n",
       "    }\n",
       "</style>\n",
       "<table border=\"1\" class=\"dataframe\">\n",
       "  <thead>\n",
       "    <tr style=\"text-align: right;\">\n",
       "      <th></th>\n",
       "      <th>0</th>\n",
       "      <th>1</th>\n",
       "      <th>2</th>\n",
       "      <th>3</th>\n",
       "      <th>4</th>\n",
       "      <th>5</th>\n",
       "      <th>6</th>\n",
       "      <th>7</th>\n",
       "      <th>8</th>\n",
       "      <th>9</th>\n",
       "      <th>...</th>\n",
       "      <th>1183</th>\n",
       "      <th>1184</th>\n",
       "      <th>1185</th>\n",
       "      <th>1186</th>\n",
       "      <th>1187</th>\n",
       "      <th>1188</th>\n",
       "      <th>1189</th>\n",
       "      <th>1190</th>\n",
       "      <th>1191</th>\n",
       "      <th>1192</th>\n",
       "    </tr>\n",
       "  </thead>\n",
       "  <tbody>\n",
       "    <tr>\n",
       "      <th>predicted</th>\n",
       "      <td>297.0</td>\n",
       "      <td>296.5</td>\n",
       "      <td>181.0</td>\n",
       "      <td>490.0</td>\n",
       "      <td>456.0</td>\n",
       "      <td>472.5</td>\n",
       "      <td>170.5</td>\n",
       "      <td>175.5</td>\n",
       "      <td>491.0</td>\n",
       "      <td>464.5</td>\n",
       "      <td>...</td>\n",
       "      <td>303.5</td>\n",
       "      <td>294.98</td>\n",
       "      <td>673.3</td>\n",
       "      <td>308.1</td>\n",
       "      <td>142.0</td>\n",
       "      <td>163.0</td>\n",
       "      <td>632.5</td>\n",
       "      <td>199.5</td>\n",
       "      <td>635.7</td>\n",
       "      <td>171.0</td>\n",
       "    </tr>\n",
       "    <tr>\n",
       "      <th>Original</th>\n",
       "      <td>297.0</td>\n",
       "      <td>296.5</td>\n",
       "      <td>181.0</td>\n",
       "      <td>490.0</td>\n",
       "      <td>456.0</td>\n",
       "      <td>472.5</td>\n",
       "      <td>170.5</td>\n",
       "      <td>175.5</td>\n",
       "      <td>491.0</td>\n",
       "      <td>464.5</td>\n",
       "      <td>...</td>\n",
       "      <td>303.5</td>\n",
       "      <td>294.98</td>\n",
       "      <td>673.3</td>\n",
       "      <td>308.1</td>\n",
       "      <td>142.0</td>\n",
       "      <td>163.0</td>\n",
       "      <td>632.5</td>\n",
       "      <td>199.5</td>\n",
       "      <td>635.7</td>\n",
       "      <td>171.0</td>\n",
       "    </tr>\n",
       "  </tbody>\n",
       "</table>\n",
       "<p>2 rows × 1193 columns</p>\n",
       "</div>"
      ],
      "text/plain": [
       "            0      1      2      3      4      5      6      7      8     \\\n",
       "predicted  297.0  296.5  181.0  490.0  456.0  472.5  170.5  175.5  491.0   \n",
       "Original   297.0  296.5  181.0  490.0  456.0  472.5  170.5  175.5  491.0   \n",
       "\n",
       "            9     ...   1183    1184   1185   1186   1187   1188   1189  \\\n",
       "predicted  464.5  ...  303.5  294.98  673.3  308.1  142.0  163.0  632.5   \n",
       "Original   464.5  ...  303.5  294.98  673.3  308.1  142.0  163.0  632.5   \n",
       "\n",
       "            1190   1191   1192  \n",
       "predicted  199.5  635.7  171.0  \n",
       "Original   199.5  635.7  171.0  \n",
       "\n",
       "[2 rows x 1193 columns]"
      ]
     },
     "execution_count": 113,
     "metadata": {},
     "output_type": "execute_result"
    }
   ],
   "source": [
    "Conclusion=pd.DataFrame([loaded_model.predict(x_test)[:],pred_rfr[:]],index=[\"predicted\",\"Original\"])\n",
    "Conclusion"
   ]
  },
  {
   "cell_type": "code",
   "execution_count": null,
   "metadata": {},
   "outputs": [],
   "source": []
  }
 ],
 "metadata": {
  "kernelspec": {
   "display_name": "Python 3",
   "language": "python",
   "name": "python3"
  },
  "language_info": {
   "codemirror_mode": {
    "name": "ipython",
    "version": 3
   },
   "file_extension": ".py",
   "mimetype": "text/x-python",
   "name": "python",
   "nbconvert_exporter": "python",
   "pygments_lexer": "ipython3",
   "version": "3.8.5"
  }
 },
 "nbformat": 4,
 "nbformat_minor": 4
}
